{
 "cells": [
  {
   "cell_type": "markdown",
   "metadata": {},
   "source": [
    "### Custom plugin to query company data that is obtained from an API\n",
    "\n",
    "Make sure that the CompanyData Service is up and running before running this plugin. The CompanyData Service is a simple REST API that provides company data. \n",
    "```bash\n",
    "cd \"dotnet\\notebooks\\CompanyDataService\\CompanyDataService\"\n",
    "dotnet run\n",
    "```\n"
   ]
  },
  {
   "cell_type": "code",
   "execution_count": null,
   "metadata": {
    "dotnet_interactive": {
     "language": "csharp"
    },
    "polyglot_notebook": {
     "kernelName": "csharp"
    },
    "vscode": {
     "languageId": "polyglot-notebook"
    }
   },
   "outputs": [],
   "source": [
    "// Initialization and loading of modules\n",
    "\n",
    "#r \"nuget: Microsoft.SemanticKernel\"\n",
    "#r \"nuget: Microsoft.SemanticKernel.Planners.Handlebars, 1.19.0-preview\"\n",
    "#r \"nuget: Microsoft.SemanticKernel.Plugins.Core,1.20.0-alpha\"\n",
    "#r \"nuget: Azure.Identity\"\n",
    "\n",
    "#!import config/Settings.cs\n",
    "#!import config/Utils.cs\n",
    "\n",
    "using Microsoft.SemanticKernel;\n",
    "using Microsoft.SemanticKernel.Connectors.AzureOpenAI;\n",
    "using Microsoft.SemanticKernel.Connectors.OpenAI;\n",
    "using Kernel = Microsoft.SemanticKernel.Kernel;\n",
    "using Azure.Identity;\n",
    "using System.Net.Http;\n",
    "using System.Threading;"
   ]
  },
  {
   "cell_type": "code",
   "execution_count": 14,
   "metadata": {
    "dotnet_interactive": {
     "language": "csharp"
    },
    "polyglot_notebook": {
     "kernelName": "csharp"
    },
    "vscode": {
     "languageId": "polyglot-notebook"
    }
   },
   "outputs": [],
   "source": [
    "// Custom HttpClient handler so we can log the input/output of the requests to the LLM API.\n",
    "public class LoggingHandler : DelegatingHandler\n",
    "{\n",
    "    public LoggingHandler(HttpMessageHandler innerHandler)\n",
    "        : base(innerHandler)\n",
    "    {\n",
    "    }\n",
    "\n",
    "    protected override async Task<HttpResponseMessage> SendAsync(HttpRequestMessage request, CancellationToken cancellationToken)\n",
    "    {\n",
    "        Console.WriteLine(\"Request:\");\n",
    "        var r = request.ToString();\n",
    "        var ra = r.Split(\"\\n\");\n",
    "        foreach (var l in ra)\n",
    "        {\n",
    "            if (l.Contains(\"Authorization\"))\n",
    "            {\n",
    "                Console.WriteLine(\"  Authorization: [REDACTED]\");\n",
    "            }\n",
    "            else\n",
    "            {\n",
    "                Console.WriteLine(l);\n",
    "            }\n",
    "        }        \n",
    "        if (request.Content != null)\n",
    "        {\n",
    "            Console.WriteLine(await request.Content.ReadAsStringAsync());\n",
    "        }\n",
    "        Console.WriteLine();\n",
    "\n",
    "        HttpResponseMessage response = await base.SendAsync(request, cancellationToken);\n",
    "\n",
    "        Console.WriteLine(\"Response:\");\n",
    "        Console.WriteLine(response.ToString());\n",
    "        if (response.Content != null)\n",
    "        {\n",
    "            Console.WriteLine(await response.Content.ReadAsStringAsync());\n",
    "        }\n",
    "        Console.WriteLine();\n",
    "\n",
    "        return response;\n",
    "    }\n",
    "}"
   ]
  },
  {
   "cell_type": "code",
   "execution_count": 15,
   "metadata": {
    "dotnet_interactive": {
     "language": "csharp"
    },
    "polyglot_notebook": {
     "kernelName": "csharp"
    },
    "vscode": {
     "languageId": "polyglot-notebook"
    }
   },
   "outputs": [],
   "source": [
    "// Create instance of HttpClient with our logging handler.\n",
    "HttpClient oaiCLient = new HttpClient(new LoggingHandler(new HttpClientHandler()));\n",
    "oaiCLient.Timeout = TimeSpan.FromMinutes(5);\n",
    "var builder = Kernel.CreateBuilder();\n",
    "\n",
    "// EntraID authentication options.\n",
    "DefaultAzureCredentialOptions defaultAzureCredentialOptions = new DefaultAzureCredentialOptions \n",
    "{ \n",
    "    ExcludeSharedTokenCacheCredential = true, \n",
    "    ExcludeEnvironmentCredential = true, \n",
    "    ExcludeAzurePowerShellCredential = true, \n",
    "    ExcludeInteractiveBrowserCredential = true, \n",
    "    ExcludeVisualStudioCredential = true, \n",
    "    ExcludeManagedIdentityCredential = true, \n",
    "    ExcludeVisualStudioCodeCredential = true, \n",
    "    ExcludeAzureCliCredential = false // Only use az login credentials\n",
    "};\n",
    "\n",
    "// Configure AI backend used by the kernel\n",
    "var (useAzureOpenAI, model, azureEndpoint, apiKey, orgId) = Settings.LoadFromFile();\n",
    "useAzureOpenAI = true;\n",
    "bool useLocalLLM = false;\n",
    "Uri localLLMEndpoint = new Uri(\"http://localhost:11434/v1\");\n",
    "string localLLMModel = \"phi3:latest\";\n",
    "#pragma warning disable SKEXP0010\n",
    "AzureOpenAIPromptExecutionSettings pes = new AzureOpenAIPromptExecutionSettings { \n",
    "    MaxTokens = 1024, \n",
    "    Temperature = 0.001, \n",
    "    TopP = 1.0, \n",
    "    FrequencyPenalty = 0.0, \n",
    "    PresencePenalty = 0.0 \n",
    "    };  \n",
    "\n",
    "// Initalize history\n",
    "var history = \"\";\n",
    "var arguments = new KernelArguments()\n",
    "{\n",
    "    [\"history\"] = history,\n",
    "    [\"promptExecutionSettings\"] = pes\n",
    "};\n",
    "\n",
    "// Attach custom HttpCLient to the OAI connectors.\n",
    "if (useAzureOpenAI)\n",
    "    builder.AddAzureOpenAIChatCompletion(model, azureEndpoint, credentials: new DefaultAzureCredential(defaultAzureCredentialOptions), httpClient: oaiCLient);\n",
    "else if (useLocalLLM)\n",
    "    builder.AddOpenAIChatCompletion(modelId:localLLMModel, apiKey:null, endpoint:localLLMEndpoint, httpClient: oaiCLient);\n",
    "else\n",
    "    builder.AddOpenAIChatCompletion(model, apiKey, orgId);\n",
    "\n",
    "var kernel = builder.Build();"
   ]
  },
  {
   "cell_type": "code",
   "execution_count": 16,
   "metadata": {
    "dotnet_interactive": {
     "language": "csharp"
    },
    "polyglot_notebook": {
     "kernelName": "csharp"
    },
    "vscode": {
     "languageId": "polyglot-notebook"
    }
   },
   "outputs": [],
   "source": [
    "using Microsoft.SemanticKernel.Planning.Handlebars;\n",
    "\n",
    "#pragma warning disable SKEXP0060\n",
    "// Create a planner instance\n",
    "var planner = new HandlebarsPlanner();"
   ]
  },
  {
   "cell_type": "code",
   "execution_count": 17,
   "metadata": {
    "dotnet_interactive": {
     "language": "csharp"
    },
    "polyglot_notebook": {
     "kernelName": "csharp"
    },
    "vscode": {
     "languageId": "polyglot-notebook"
    }
   },
   "outputs": [],
   "source": [
    "using System.ComponentModel;\n",
    "\n",
    "using System;\n",
    "using System.Collections.Generic;\n",
    "using System.IO;\n",
    "using System.Net.Http;\n",
    "\n",
    "// Define the CompanyRecord class to hold the company data.\n",
    "public record CompanyRecord\n",
    "{\n",
    "    public int Id { get; set; }\n",
    "    public int Rank { get; set; }\n",
    "    public string Name { get; set; }\n",
    "    public string Industry { get; set; }\n",
    "    public string City { get; set; }\n",
    "    public string State { get; set; }\n",
    "    public string Zip { get; set; }\n",
    "    public string Website { get; set; }\n",
    "    public int Employees { get; set; }\n",
    "    public decimal RevenueInMillions { get; set; }\n",
    "    public decimal ProfitInMillions { get; set; }\n",
    "    public decimal ValuationInMillions { get; set; }\n",
    "    public string Ticker { get; set; }\n",
    "    public string CEO { get; set; }\n",
    "}\n",
    "\n",
    "// CompanyData plugin\n",
    "public class CompanyDataPlugin\n",
    "{\n",
    "    string companyDataServiceApiEndpoint = \" http://localhost:5232\";\n",
    "    HttpClient _httpClient = new HttpClient();\n",
    "\n",
    "    // These descriptions are important and need to be as precise as possible as the Planner \n",
    "    // will use them as prompts to generate the HandleBar template.\n",
    "    [KernelFunction(\"find_company\")]\n",
    "    [Description(\"Find a company name given a ticker symbol or description of the company.\")]\n",
    "    [return: Description(\"A unique ID to the company. If the ID returned is -1, that means the company info could not be found - in which caswe the user should be informed about it.\")]\n",
    "    public async Task<int> GetCompanyNameAsync(string CompanyText)\n",
    "    {\n",
    "        // Call the API to find/validate the company name.\n",
    "        return await Task.Run(() =>\n",
    "        {\n",
    "            var url = companyDataServiceApiEndpoint + \"/company_data/find/\" + CompanyText;\n",
    "            var r = _httpClient.GetAsync(url).Result;   \n",
    "            if (r.StatusCode != System.Net.HttpStatusCode.OK)\n",
    "            {\n",
    "                return -1;\n",
    "            }\n",
    "            return int.Parse(r.Content.ReadAsStringAsync().Result);\n",
    "        });\n",
    "    }\n",
    "\n",
    "    [KernelFunction(\"get_company_data\")]\n",
    "    [Description(\"Given the unique ID of a company, returns key data such as rank, industry, ticker symbol, address, website, valuation, profit, revenue, number of employees and CEO.\")]\n",
    "    [return: Description(\"The details of the company\")]\n",
    "    public async Task<CompanyRecord> GetCompanyDataAsync(string Id)\n",
    "    {\n",
    "        // Call the API to get the details of the company based on the ID.\n",
    "        return await Task.Run(() =>\n",
    "        {\n",
    "            var url = companyDataServiceApiEndpoint + \"/company_data/\" + int.Parse(Id);\n",
    "            var r = _httpClient.GetAsync(url).Result;\n",
    "            var json = JsonDocument.Parse(r.Content.ReadAsStringAsync().Result);\n",
    "            var root = json.RootElement;\n",
    "            return new CompanyRecord\n",
    "            {\n",
    "                Id = root.GetProperty(\"id\").GetInt32(),\n",
    "                Rank = root.GetProperty(\"rank\").GetInt32(),\n",
    "                Name = root.GetProperty(\"name\").GetString(),\n",
    "                Industry = root.GetProperty(\"industry\").GetString(),\n",
    "                City = root.GetProperty(\"city\").GetString(),\n",
    "                State = root.GetProperty(\"state\").GetString(),\n",
    "                Zip = root.GetProperty(\"zip\").GetString(),\n",
    "                Website = root.GetProperty(\"website\").GetString(),\n",
    "                Employees = root.GetProperty(\"employees\").GetInt32(),\n",
    "                RevenueInMillions = root.GetProperty(\"revenueInMillions\").GetDecimal(),\n",
    "                ProfitInMillions = root.GetProperty(\"profitInMillions\").GetDecimal(),\n",
    "                ValuationInMillions = root.GetProperty(\"valuationInMillions\").GetDecimal(),\n",
    "                Ticker = root.GetProperty(\"ticker\").GetString(),\n",
    "                CEO = root.GetProperty(\"ceo\").GetString()\n",
    "            };\n",
    "        });\n",
    "    }\n",
    "}\n"
   ]
  },
  {
   "cell_type": "code",
   "execution_count": 18,
   "metadata": {
    "vscode": {
     "languageId": "polyglot-notebook"
    }
   },
   "outputs": [],
   "source": [
    "// Financial Math Plugin\n",
    "\n",
    "public class FinancialMathPlugin\n",
    "{\n",
    "    // These descriptions are important and need to be as precise as possible as the Planner \n",
    "    // will use them as prompts to generate the HandleBar template.\n",
    "    [KernelFunction(\"get_profit_margin\")]\n",
    "    [Description(\"Given the profit in millions and the revenue in millions, returns the profit margin in percentage.\")]\n",
    "    [return: Description(\"The profit margin in percentage\")]\n",
    "    public double GetProfitMargin(double profitInMillions, double revenueInMillions)\n",
    "    {\n",
    "        return profitInMillions / revenueInMillions * 100;\n",
    "    }\n",
    "\n",
    "    [KernelFunction(\"get_valuation_to_revenue\")]\n",
    "    [Description(\"Given the valuation in millions and the revenue in millions, returns the valuation to revenue ratio.\")]\n",
    "    [return: Description(\"The valuation to revenue ratio\")]\n",
    "    public double GetValuationToRevenueRatio(double valuationInMillions, double revenueInMillions)\n",
    "    {\n",
    "        return valuationInMillions / revenueInMillions;\n",
    "    }\n",
    "\n",
    "    [KernelFunction(\"get_valuation_to_profit\")]\n",
    "    [Description(\"Given the valuation in millions and the profit in millions, returns the valuation to profit ratio.\")]\n",
    "    [return: Description(\"The valuation to profit ratio\")]\n",
    "    public double GetValuationToProfitRatio(double valuationInMillions, double profitInMillions)\n",
    "    {\n",
    "        return valuationInMillions / profitInMillions;\n",
    "    }\n",
    "\n",
    "    [KernelFunction(\"get_valuation_to_employee\")]\n",
    "    [Description(\"Given the valuation in millions and the number of employees, returns the valuation to employee ratio.\")]\n",
    "    [return: Description(\"The valuation to employee ratio\")]\n",
    "    public double GetValuationToEmployeeRatio(double valuationInMillions, int employees)\n",
    "    {\n",
    "        return valuationInMillions / employees;\n",
    "    }\n",
    "}"
   ]
  },
  {
   "cell_type": "code",
   "execution_count": 19,
   "metadata": {
    "dotnet_interactive": {
     "language": "csharp"
    },
    "polyglot_notebook": {
     "kernelName": "csharp"
    },
    "vscode": {
     "languageId": "polyglot-notebook"
    }
   },
   "outputs": [],
   "source": [
    "#pragma warning disable SKEXP0050\n",
    "\n",
    "//Add the plugins to the kernel\n",
    "using Microsoft.SemanticKernel.Plugins.Core;\n",
    "kernel.ImportPluginFromType<CompanyDataPlugin>();\n",
    "kernel.ImportPluginFromType<FinancialMathPlugin>();\n"
   ]
  },
  {
   "cell_type": "code",
   "execution_count": null,
   "metadata": {
    "dotnet_interactive": {
     "language": "csharp"
    },
    "polyglot_notebook": {
     "kernelName": "csharp"
    },
    "vscode": {
     "languageId": "polyglot-notebook"
    }
   },
   "outputs": [],
   "source": [
    "#pragma warning disable SKEXP0060\n",
    "\n",
    "// Question to ask the planner\n",
    "var ask = \"What is the valuation to profit ratio for Fedex?\";\n",
    "\n",
    "// Generate Handlebar template.\n",
    "var plan = await planner.CreatePlanAsync(kernel, ask, arguments);\n",
    "\n",
    "Console.WriteLine(\"Plan:\\n\");\n",
    "Console.WriteLine(plan);"
   ]
  },
  {
   "cell_type": "code",
   "execution_count": null,
   "metadata": {
    "dotnet_interactive": {
     "language": "csharp"
    },
    "polyglot_notebook": {
     "kernelName": "csharp"
    },
    "vscode": {
     "languageId": "polyglot-notebook"
    }
   },
   "outputs": [],
   "source": [
    "#pragma warning disable SKEXP0060\n",
    "\n",
    "// Execute Handlebar template.\n",
    "var planResult = await plan.InvokeAsync(kernel);\n",
    "\n",
    "Console.WriteLine(\"Plan results:\\n\");\n",
    "Console.WriteLine(Utils.WordWrap(planResult.ToString(), 100));"
   ]
  },
  {
   "cell_type": "code",
   "execution_count": null,
   "metadata": {
    "dotnet_interactive": {
     "language": "csharp"
    },
    "polyglot_notebook": {
     "kernelName": "csharp"
    },
    "vscode": {
     "languageId": "polyglot-notebook"
    }
   },
   "outputs": [],
   "source": [
    "#pragma warning disable SKEXP0060\n",
    "\n",
    "// Ask questions in a loop like a chatbot, with support for chat history.\n",
    "ask = String.Empty;\n",
    "while (ask != \"exit\")\n",
    "{\n",
    "    ask = await InteractiveKernel.GetInputAsync(\"Please ask your question about the company data\");\n",
    "    if (ask == \"exit\") continue;\n",
    "    Console.WriteLine(\"Asking: \" + ask);\n",
    "    plan = await planner.CreatePlanAsync(kernel, ask, arguments);\n",
    "    planResult = await plan.InvokeAsync(kernel);\n",
    "    Console.WriteLine(Utils.WordWrap(planResult.ToString(), 100));\n",
    "    history += $\"\\nUser: {ask}\\nAI: {planResult.ToString()}\\n\";\n",
    "    arguments[\"history\"] = history;\n",
    "}\n"
   ]
  }
 ],
 "metadata": {
  "kernelspec": {
   "display_name": ".NET (C#)",
   "language": "C#",
   "name": ".net-csharp"
  },
  "language_info": {
   "name": "python"
  },
  "polyglot_notebook": {
   "kernelInfo": {
    "defaultKernelName": "csharp",
    "items": [
     {
      "aliases": [],
      "name": "csharp"
     }
    ]
   }
  }
 },
 "nbformat": 4,
 "nbformat_minor": 2
}
