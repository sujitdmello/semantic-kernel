{
 "cells": [
  {
   "cell_type": "markdown",
   "metadata": {},
   "source": [
    "### Custom plugin to query company data that is obtained from an API\n",
    "\n",
    "Make sure that the CompanyData Service is up and running before running this plugin. The CompanyData Service is a simple REST API that provides company data. \n",
    "```bash\n",
    "cd \"dotnet\\notebooks\\CompanyDataService\\CompanyDataService\"\n",
    "dotnet run\n",
    "```\n"
   ]
  },
  {
   "cell_type": "code",
   "execution_count": 1,
   "metadata": {
    "dotnet_interactive": {
     "language": "csharp"
    },
    "polyglot_notebook": {
     "kernelName": "csharp"
    },
    "vscode": {
     "languageId": "polyglot-notebook"
    }
   },
   "outputs": [
    {
     "data": {
      "text/html": [
       "<div><div></div><div></div><div><strong>Installed Packages</strong><ul><li><span>Azure.AI.OpenAI, 2.1.0-beta.1</span></li><li><span>Azure.Identity, 1.13.0</span></li><li><span>Microsoft.SemanticKernel, 1.24.1</span></li><li><span>Microsoft.SemanticKernel.Planners.Handlebars, 1.19.0-preview</span></li><li><span>Microsoft.SemanticKernel.Plugins.Core, 1.20.0-alpha</span></li></ul></div></div>"
      ]
     },
     "metadata": {},
     "output_type": "display_data"
    }
   ],
   "source": [
    "// Initialization and loading of modules\n",
    "\n",
    "#r \"nuget: Microsoft.SemanticKernel\"\n",
    "#r \"nuget: Microsoft.SemanticKernel.Planners.Handlebars, 1.19.0-preview\"\n",
    "#r \"nuget: Microsoft.SemanticKernel.Plugins.Core,1.20.0-alpha\"\n",
    "#r \"nuget: Azure.Identity\"\n",
    "#r \"nuget: Azure.AI.OpenAI,2.1.0-beta.1\"\n",
    "\n",
    "#!import config/Settings.cs\n",
    "#!import config/Utils.cs\n",
    "\n",
    "using Microsoft.SemanticKernel;\n",
    "using Microsoft.SemanticKernel.Connectors.AzureOpenAI;\n",
    "using Microsoft.SemanticKernel.Connectors.OpenAI;\n",
    "using Kernel = Microsoft.SemanticKernel.Kernel;\n",
    "using Azure.Identity;\n",
    "using System.Net.Http;\n",
    "using System.Threading;"
   ]
  },
  {
   "cell_type": "code",
   "execution_count": 2,
   "metadata": {
    "dotnet_interactive": {
     "language": "csharp"
    },
    "polyglot_notebook": {
     "kernelName": "csharp"
    },
    "vscode": {
     "languageId": "polyglot-notebook"
    }
   },
   "outputs": [],
   "source": [
    "// Custom HttpClient handler so we can log the input/output of the requests to the LLM API.\n",
    "public class LoggingHandler : DelegatingHandler\n",
    "{\n",
    "    public LoggingHandler(HttpMessageHandler innerHandler)\n",
    "        : base(innerHandler)\n",
    "    {\n",
    "    }\n",
    "\n",
    "    protected override async Task<HttpResponseMessage> SendAsync(HttpRequestMessage request, CancellationToken cancellationToken)\n",
    "    {\n",
    "        Console.WriteLine(\"Request:\");\n",
    "        var r = request.ToString();\n",
    "        var ra = r.Split(\"\\n\");\n",
    "        foreach (var l in ra)\n",
    "        {\n",
    "            if (l.Contains(\"Authorization\"))\n",
    "            {\n",
    "                Console.WriteLine(\"  Authorization: [REDACTED]\");\n",
    "            }\n",
    "            else\n",
    "            {\n",
    "                Console.WriteLine(l);\n",
    "            }\n",
    "        }        \n",
    "        if (request.Content != null)\n",
    "        {\n",
    "            Console.WriteLine(await request.Content.ReadAsStringAsync());\n",
    "        }\n",
    "        Console.WriteLine();\n",
    "\n",
    "        HttpResponseMessage response = await base.SendAsync(request, cancellationToken);\n",
    "\n",
    "        Console.WriteLine(\"Response:\");\n",
    "        Console.WriteLine(response.ToString());\n",
    "        if (response.Content != null)\n",
    "        {\n",
    "            Console.WriteLine(await response.Content.ReadAsStringAsync());\n",
    "        }\n",
    "        Console.WriteLine();\n",
    "\n",
    "        return response;\n",
    "    }\n",
    "}"
   ]
  },
  {
   "cell_type": "code",
   "execution_count": 3,
   "metadata": {
    "dotnet_interactive": {
     "language": "csharp"
    },
    "polyglot_notebook": {
     "kernelName": "csharp"
    },
    "vscode": {
     "languageId": "polyglot-notebook"
    }
   },
   "outputs": [],
   "source": [
    "// Create instance of HttpClient with our logging handler.\n",
    "HttpClient oaiCLient = new HttpClient(new LoggingHandler(new HttpClientHandler()));\n",
    "oaiCLient.Timeout = TimeSpan.FromMinutes(5);\n",
    "var builder = Kernel.CreateBuilder();\n",
    "\n",
    "// EntraID authentication options.\n",
    "DefaultAzureCredentialOptions defaultAzureCredentialOptions = new DefaultAzureCredentialOptions \n",
    "{ \n",
    "    ExcludeSharedTokenCacheCredential = true, \n",
    "    ExcludeEnvironmentCredential = true, \n",
    "    ExcludeAzurePowerShellCredential = true, \n",
    "    ExcludeInteractiveBrowserCredential = true, \n",
    "    ExcludeVisualStudioCredential = true, \n",
    "    ExcludeManagedIdentityCredential = true, \n",
    "    ExcludeVisualStudioCodeCredential = true, \n",
    "    ExcludeAzureCliCredential = false // Only use az login credentials\n",
    "};\n",
    "\n",
    "// Configure AI backend used by the kernel\n",
    "var (useAzureOpenAI, model, azureEndpoint, apiKey, orgId) = Settings.LoadFromFile();\n",
    "useAzureOpenAI = true;\n",
    "bool useLocalLLM = false;\n",
    "Uri localLLMEndpoint = new Uri(\"http://localhost:11434/v1\");\n",
    "string localLLMModel = \"phi3:latest\";\n",
    "#pragma warning disable SKEXP0010\n",
    "AzureOpenAIPromptExecutionSettings pes = new AzureOpenAIPromptExecutionSettings { \n",
    "    MaxTokens = 1024, \n",
    "    Temperature = 0.001, \n",
    "    TopP = 1.0, \n",
    "    FrequencyPenalty = 0.0, \n",
    "    PresencePenalty = 0.0,\n",
    "    };  \n",
    "\n",
    "// Initalize history\n",
    "var history = \"\";\n",
    "var arguments = new KernelArguments()\n",
    "{\n",
    "    [\"history\"] = history,\n",
    "    [\"promptExecutionSettings\"] = pes\n",
    "};\n",
    "\n",
    "// Attach custom HttpCLient to the OAI connectors.\n",
    "if (useAzureOpenAI)\n",
    "    builder.AddAzureOpenAIChatCompletion(model, azureEndpoint, credentials: new DefaultAzureCredential(defaultAzureCredentialOptions), httpClient: oaiCLient);\n",
    "else if (useLocalLLM)\n",
    "    builder.AddOpenAIChatCompletion(modelId:localLLMModel, apiKey:null, endpoint:localLLMEndpoint, httpClient: oaiCLient);\n",
    "else\n",
    "    builder.AddOpenAIChatCompletion(model, apiKey, orgId);\n",
    "\n",
    "var kernel = builder.Build();"
   ]
  },
  {
   "cell_type": "code",
   "execution_count": 4,
   "metadata": {
    "dotnet_interactive": {
     "language": "csharp"
    },
    "polyglot_notebook": {
     "kernelName": "csharp"
    },
    "vscode": {
     "languageId": "polyglot-notebook"
    }
   },
   "outputs": [],
   "source": [
    "using Microsoft.SemanticKernel.Planning.Handlebars;\n",
    "\n",
    "#pragma warning disable SKEXP0060\n",
    "// Create a planner instance\n",
    "var planner = new HandlebarsPlanner();"
   ]
  },
  {
   "cell_type": "code",
   "execution_count": 5,
   "metadata": {
    "dotnet_interactive": {
     "language": "csharp"
    },
    "polyglot_notebook": {
     "kernelName": "csharp"
    },
    "vscode": {
     "languageId": "polyglot-notebook"
    }
   },
   "outputs": [],
   "source": [
    "using System.ComponentModel;\n",
    "\n",
    "using System;\n",
    "using System.Collections.Generic;\n",
    "using System.IO;\n",
    "using System.Net.Http;\n",
    "\n",
    "// Define the CompanyRecord class to hold the company data.\n",
    "public record CompanyRecord\n",
    "{\n",
    "    public int Id { get; set; }\n",
    "    public int Rank { get; set; }\n",
    "    public string Name { get; set; }\n",
    "    public string Industry { get; set; }\n",
    "    public string City { get; set; }\n",
    "    public string State { get; set; }\n",
    "    public string Zip { get; set; }\n",
    "    public string Website { get; set; }\n",
    "    public int Employees { get; set; }\n",
    "    public decimal RevenueInMillions { get; set; }\n",
    "    public decimal ProfitInMillions { get; set; }\n",
    "    public decimal ValuationInMillions { get; set; }\n",
    "    public string Ticker { get; set; }\n",
    "    public string CEO { get; set; }\n",
    "}\n",
    "\n",
    "// CompanyData plugin\n",
    "public class CompanyDataPlugin\n",
    "{\n",
    "    string companyDataServiceApiEndpoint = \" http://localhost:5232\";\n",
    "    HttpClient _httpClient = new HttpClient();\n",
    "\n",
    "    // These descriptions are important and need to be as precise as possible as the Planner \n",
    "    // will use them as prompts to generate the HandleBar template.\n",
    "    [KernelFunction(\"find_company\")]\n",
    "    [Description(\"Find a company name given a ticker symbol or description of the company.\")]\n",
    "    [return: Description(\"A unique ID to the company. If the ID returned is -1, that means the company info could not be found - in which caswe the user should be informed about it.\")]\n",
    "    public async Task<int> GetCompanyNameAsync(string CompanyText)\n",
    "    {\n",
    "        // Call the API to find/validate the company name.\n",
    "        return await Task.Run(() =>\n",
    "        {\n",
    "            var url = companyDataServiceApiEndpoint + \"/company_data/find/\" + CompanyText;\n",
    "            var r = _httpClient.GetAsync(url).Result;   \n",
    "            if (r.StatusCode != System.Net.HttpStatusCode.OK)\n",
    "            {\n",
    "                return -1;\n",
    "            }\n",
    "            return int.Parse(r.Content.ReadAsStringAsync().Result);\n",
    "        });\n",
    "    }\n",
    "\n",
    "    [KernelFunction(\"get_company_data\")]\n",
    "    [Description(\"Given the unique ID of a company, returns key data such as rank, industry, ticker symbol, address, website, valuation, profit, revenue, number of employees and CEO.\")]\n",
    "    [return: Description(\"The details of the company\")]\n",
    "    public async Task<CompanyRecord> GetCompanyDataAsync(string Id)\n",
    "    {\n",
    "        // Call the API to get the details of the company based on the ID.\n",
    "        return await Task.Run(() =>\n",
    "        {\n",
    "            var url = companyDataServiceApiEndpoint + \"/company_data/\" + int.Parse(Id);\n",
    "            var r = _httpClient.GetAsync(url).Result;\n",
    "            var json = JsonDocument.Parse(r.Content.ReadAsStringAsync().Result);\n",
    "            var root = json.RootElement;\n",
    "            return new CompanyRecord\n",
    "            {\n",
    "                Id = root.GetProperty(\"id\").GetInt32(),\n",
    "                Rank = root.GetProperty(\"rank\").GetInt32(),\n",
    "                Name = root.GetProperty(\"name\").GetString(),\n",
    "                Industry = root.GetProperty(\"industry\").GetString(),\n",
    "                City = root.GetProperty(\"city\").GetString(),\n",
    "                State = root.GetProperty(\"state\").GetString(),\n",
    "                Zip = root.GetProperty(\"zip\").GetString(),\n",
    "                Website = root.GetProperty(\"website\").GetString(),\n",
    "                Employees = root.GetProperty(\"employees\").GetInt32(),\n",
    "                RevenueInMillions = root.GetProperty(\"revenueInMillions\").GetDecimal(),\n",
    "                ProfitInMillions = root.GetProperty(\"profitInMillions\").GetDecimal(),\n",
    "                ValuationInMillions = root.GetProperty(\"valuationInMillions\").GetDecimal(),\n",
    "                Ticker = root.GetProperty(\"ticker\").GetString(),\n",
    "                CEO = root.GetProperty(\"ceo\").GetString()\n",
    "            };\n",
    "        });\n",
    "    }\n",
    "}\n"
   ]
  },
  {
   "cell_type": "code",
   "execution_count": 6,
   "metadata": {
    "dotnet_interactive": {
     "language": "csharp"
    },
    "polyglot_notebook": {
     "kernelName": "csharp"
    },
    "vscode": {
     "languageId": "polyglot-notebook"
    }
   },
   "outputs": [],
   "source": [
    "// Financial Math Plugin\n",
    "\n",
    "public class FinancialMathPlugin\n",
    "{\n",
    "    // These descriptions are important and need to be as precise as possible as the Planner \n",
    "    // will use them as prompts to generate the HandleBar template.\n",
    "    [KernelFunction(\"get_profit_margin\")]\n",
    "    [Description(\"Given the profit in millions and the revenue in millions, returns the profit margin in percentage.\")]\n",
    "    [return: Description(\"The profit margin in percentage\")]\n",
    "    public double GetProfitMargin(double profitInMillions, double revenueInMillions)\n",
    "    {\n",
    "        return profitInMillions / revenueInMillions * 100;\n",
    "    }\n",
    "\n",
    "    [KernelFunction(\"get_valuation_to_revenue\")]\n",
    "    [Description(\"Given the valuation in millions and the revenue in millions, returns the valuation to revenue ratio.\")]\n",
    "    [return: Description(\"The valuation to revenue ratio\")]\n",
    "    public double GetValuationToRevenueRatio(double valuationInMillions, double revenueInMillions)\n",
    "    {\n",
    "        return valuationInMillions / revenueInMillions;\n",
    "    }\n",
    "\n",
    "    [KernelFunction(\"get_valuation_to_profit\")]\n",
    "    [Description(\"Given the valuation in millions and the profit in millions, returns the valuation to profit ratio.\")]\n",
    "    [return: Description(\"The valuation to profit ratio\")]\n",
    "    public double GetValuationToProfitRatio(double valuationInMillions, double profitInMillions)\n",
    "    {\n",
    "        return valuationInMillions / profitInMillions;\n",
    "    }\n",
    "\n",
    "    [KernelFunction(\"get_valuation_to_employee\")]\n",
    "    [Description(\"Given the valuation in millions and the number of employees, returns the valuation to employee ratio.\")]\n",
    "    [return: Description(\"The valuation to employee ratio\")]\n",
    "    public double GetValuationToEmployeeRatio(double valuationInMillions, int employees)\n",
    "    {\n",
    "        return valuationInMillions / employees;\n",
    "    }\n",
    "}"
   ]
  },
  {
   "cell_type": "code",
   "execution_count": 7,
   "metadata": {
    "dotnet_interactive": {
     "language": "csharp"
    },
    "polyglot_notebook": {
     "kernelName": "csharp"
    },
    "vscode": {
     "languageId": "polyglot-notebook"
    }
   },
   "outputs": [],
   "source": [
    "\n",
    "//Add the plugins to the kernel\n",
    "using Microsoft.SemanticKernel.Plugins.Core;\n",
    "// FunPlugin directory path\n",
    "var groundingPluginDirectoryPath = Path.Combine(System.IO.Directory.GetCurrentDirectory(), \"..\", \"..\", \"prompt_template_samples\", \"GroundingPlugin\");\n",
    "var qaPluginDirectoryPath = Path.Combine(System.IO.Directory.GetCurrentDirectory(), \"..\", \"..\", \"prompt_template_samples\", \"QAPlugin\");\n",
    "\n",
    "// Load the FunPlugin from the Plugins Directory\n",
    "var groundingPluginFunctions = kernel.ImportPluginFromPromptDirectory(groundingPluginDirectoryPath);\n",
    "var questionPluginsFunctions = kernel.ImportPluginFromPromptDirectory(qaPluginDirectoryPath);\n",
    "kernel.ImportPluginFromType<CompanyDataPlugin>();\n",
    "kernel.ImportPluginFromType<FinancialMathPlugin>();\n",
    "\n"
   ]
  },
  {
   "cell_type": "code",
   "execution_count": 26,
   "metadata": {
    "dotnet_interactive": {
     "language": "csharp"
    },
    "polyglot_notebook": {
     "kernelName": "csharp"
    },
    "vscode": {
     "languageId": "polyglot-notebook"
    }
   },
   "outputs": [
    {
     "name": "stdout",
     "output_type": "stream",
     "text": [
      "Request:\n",
      "Method: POST, RequestUri: 'https://podcastchat.openai.azure.com/openai/deployments/gpt-4o/chat/completions?api-version=2024-08-01-preview', Version: 1.1, Content: System.ClientModel.Primitives.HttpClientPipelineTransport+HttpPipelineRequest+MessageBodyAdapter, Headers:\n",
      "{\n",
      "  Accept: application/json\n",
      "  User-Agent: Semantic-Kernel azsdk-net-AI.OpenAI/2.1.0-beta.1 (.NET 8.0.10; Microsoft Windows 10.0.26100)\n",
      "  x-ms-client-request-id: 04a72f2c-47e9-49c0-be5c-9b90d9a4c284\n",
      "  Semantic-Kernel-Version: 1.24.1.0\n",
      "  Authorization: [REDACTED]\n",
      "  Content-Type: application/json\n",
      "}\n",
      "{\"messages\":[{\"role\":\"system\",\"content\":\"## Instructions\\nExplain how to achieve the user\\u0027s goal using the available helpers with a Handlebars .Net template.\\n\\n## Example\\nIf the user posed the goal below, you could answer with the following template.\"},{\"role\":\"user\",\"content\":\"## Goal\\nI want you to generate 10 random numbers and send them to another helper.\"},{\"role\":\"assistant\",\"content\":\"Here\\u0027s a Handlebars template that achieves the goal:\\n\\u0060\\u0060\\u0060handlebars\\n{{!-- Step 0: Extract key values --}}\\n{{set\\n  \\u0022count\\u0022\\n  10\\n}}\\n{{!-- Step 1: Loop using the count --}}\\n{{#each\\n  (range\\n    1\\n    count\\n  )\\n}}\\n  {{!-- Step 2: Create random number --}}\\n  {{set\\n    \\u0022randomNumber\\u0022\\n    (Example-Random\\n      seed=this\\n    )\\n  }}\\n  {{!-- Step 3: Call example helper with random number and print the result to the screen --}}\\n  {{set\\n    \\u0022result\\u0022\\n    (Example-Helper\\n      input=randomNumber\\n    )\\n  }}\\n  {{json (concat \\u0022The result\\u0022 \\u0022 \\u0022 \\u0022is:\\u0022 \\u0022 \\u0022 result)}}\\n{{/each}}\\n\\u0060\\u0060\\u0060\"},{\"role\":\"system\",\"content\":\"Now let\\u0027s try the real thing.\"},{\"role\":\"user\",\"content\":\"The following helpers are available to you:\\n\\n## Built-in block helpers\\n- \\u0060{{#if}}{{/if}}\\u0060\\n- \\u0060{{#unless}}{{/unless}}\\u0060\\n- \\u0060{{#each}}{{/each}}\\u0060 - inside this block, you can use:\\n    - \\u0060this\\u0060 to reference the element being iterated over\\n    - \\u0060@index\\u0060 to reference the current index\\n    - \\u0060@key\\u0060 to reference the current key (for object iteration)\\n- \\u0060{{#with}}{{/with}}\\u0060\\n\\n## Loop helpers\\nIf you need to loop through a list of values with \\u0060{{#each}}\\u0060, you can use the following helpers:\\n- \\u0060{{range}}\\u0060 \\u2013 Generates a list of integral numbers within a specified range, inclusive of the first and last value.\\n- \\u0060{{array}}\\u0060 \\u2013 Generates an array of values from the given values (zero-indexed).\\n\\nIMPORTANT: \\u0060range\\u0060 and \\u0060array\\u0060 are the only supported data structures. Others like \\u0060hash\\u0060 are not supported. Also, you cannot use any methods or properties on the built-in data structures.\\n\\n## Math helpers\\nIf you need to do basic operations, you can use these two helpers with numerical values:\\n- \\u0060{{add}}\\u0060 \\u2013 Adds two values together.\\n- \\u0060{{subtract}}\\u0060 \\u2013 Subtracts the second value from the first.\\n\\n## Comparison helpers\\nIf you need to compare two values, you can use the \\u0060{{equals}}\\u0060 helper.\\nTo use the math and comparison helpers, you must pass in two positional values. For example, to check if the variable \\u0060var\\u0060 is equal to number \\u00601\\u0060, you would use the following helper like so: \\u0060{{#if (equals var 1)}}{{/if}}\\u0060.\\n\\n## Variable helpers\\nIf you need to create or retrieve a variable, you can use the following helpers:\\n- \\u0060{{set}}\\u0060 \\u2013 Creates a variable with the given name and value. It does not print anything to the template, so you must use \\u0060{{json}}\\u0060 to print the value.\\n- \\u0060{{json}}\\u0060 \\u2013 Serializes the given value and prints result as JSON string.\\n- \\u0060{{concat}}\\u0060 \\u2013 Concatenates the given values into one string.\\n\\n## Complex types\\nSome helpers require arguments that are complex objects. The JSON schemas for these complex objects are defined below:\\n\\n### CompanyRecord:\\n{\\n  \\u0022type\\u0022: \\u0022Object\\u0022,\\n  \\u0022properties\\u0022: {\\n    \\u0022Id\\u0022: {\\n      \\u0022type\\u0022: \\u0022Int32\\u0022,\\n    },\\n    \\u0022Rank\\u0022: {\\n      \\u0022type\\u0022: \\u0022Int32\\u0022,\\n    },\\n    \\u0022Name\\u0022: {\\n      \\u0022type\\u0022: \\u0022String\\u0022,\\n    },\\n    \\u0022Industry\\u0022: {\\n      \\u0022type\\u0022: \\u0022String\\u0022,\\n    },\\n    \\u0022City\\u0022: {\\n      \\u0022type\\u0022: \\u0022String\\u0022,\\n    },\\n    \\u0022State\\u0022: {\\n      \\u0022type\\u0022: \\u0022String\\u0022,\\n    },\\n    \\u0022Zip\\u0022: {\\n      \\u0022type\\u0022: \\u0022String\\u0022,\\n    },\\n    \\u0022Website\\u0022: {\\n      \\u0022type\\u0022: \\u0022String\\u0022,\\n    },\\n    \\u0022Employees\\u0022: {\\n      \\u0022type\\u0022: \\u0022Int32\\u0022,\\n    },\\n    \\u0022RevenueInMillions\\u0022: {\\n      \\u0022type\\u0022: \\u0022Decimal\\u0022,\\n    },\\n    \\u0022ProfitInMillions\\u0022: {\\n      \\u0022type\\u0022: \\u0022Decimal\\u0022,\\n    },\\n    \\u0022ValuationInMillions\\u0022: {\\n      \\u0022type\\u0022: \\u0022Decimal\\u0022,\\n    },\\n    \\u0022Ticker\\u0022: {\\n      \\u0022type\\u0022: \\u0022String\\u0022,\\n    },\\n    \\u0022CEO\\u0022: {\\n      \\u0022type\\u0022: \\u0022String\\u0022,\\n    },\\n  }\\n}\\n\\n### find_companyReturns-integer:\\n{\\r\\n  \\u0022type\\u0022: \\u0022integer\\u0022,\\r\\n  \\u0022description\\u0022: \\u0022A unique ID to the company. If the ID returned is -1, that means the company info could not be found - in which caswe the user should be informed about it.\\u0022\\r\\n}\\n\\n### profitInMillions-number:\\n{\\r\\n  \\u0022type\\u0022: \\u0022number\\u0022\\r\\n}\\n\\n### revenueInMillions-number:\\n{\\r\\n  \\u0022type\\u0022: \\u0022number\\u0022\\r\\n}\\n\\n### get_profit_marginReturns-number:\\n{\\r\\n  \\u0022type\\u0022: \\u0022number\\u0022,\\r\\n  \\u0022description\\u0022: \\u0022The profit margin in percentage\\u0022\\r\\n}\\n\\n### valuationInMillions-number:\\n{\\r\\n  \\u0022type\\u0022: \\u0022number\\u0022\\r\\n}\\n\\n### employees-integer:\\n{\\r\\n  \\u0022type\\u0022: \\u0022integer\\u0022\\r\\n}\\n\\n### get_valuation_to_employeeReturns-number:\\n{\\r\\n  \\u0022type\\u0022: \\u0022number\\u0022,\\r\\n  \\u0022description\\u0022: \\u0022The valuation to employee ratio\\u0022\\r\\n}\\n\\n### get_valuation_to_profitReturns-number:\\n{\\r\\n  \\u0022type\\u0022: \\u0022number\\u0022,\\r\\n  \\u0022description\\u0022: \\u0022The valuation to profit ratio\\u0022\\r\\n}\\n\\n### get_valuation_to_revenueReturns-number:\\n{\\r\\n  \\u0022type\\u0022: \\u0022number\\u0022,\\r\\n  \\u0022description\\u0022: \\u0022The valuation to revenue ratio\\u0022\\r\\n}\\n\\n## Custom helpers\\nLastly, you have the following custom helpers to use.\\n\\n### \\u0060CompanyDataPlugin-find_company\\u0060\\nDescription: Find a company name given a ticker symbol or description of the company.\\nInputs:\\n    - CompanyText: CompanyText-string - (required)\\nOutput: Int64 - A unique ID to the company. If the ID returned is -1, that means the company info could not be found - in which caswe the user should be informed about it.\\n\\n### \\u0060CompanyDataPlugin-get_company_data\\u0060\\nDescription: Given the unique ID of a company, returns key data such as rank, industry, ticker symbol, address, website, valuation, profit, revenue, number of employees and CEO.\\nInputs:\\n    - Id: Id-string - (required)\\nOutput: CompanyRecord - The details of the company\\n\\n### \\u0060FinancialMathPlugin-get_profit_margin\\u0060\\nDescription: Given the profit in millions and the revenue in millions, returns the profit margin in percentage.\\nInputs:\\n    - profitInMillions: profitInMillions-number - (required)\\n    - revenueInMillions: revenueInMillions-number - (required)\\nOutput: Double - The profit margin in percentage\\n\\n### \\u0060FinancialMathPlugin-get_valuation_to_employee\\u0060\\nDescription: Given the valuation in millions and the number of employees, returns the valuation to employee ratio.\\nInputs:\\n    - valuationInMillions: valuationInMillions-number - (required)\\n    - employees: employees-integer - (required)\\nOutput: Double - The valuation to employee ratio\\n\\n### \\u0060FinancialMathPlugin-get_valuation_to_profit\\u0060\\nDescription: Given the valuation in millions and the profit in millions, returns the valuation to profit ratio.\\nInputs:\\n    - valuationInMillions: valuationInMillions-number - (required)\\n    - profitInMillions: profitInMillions-number - (required)\\nOutput: Double - The valuation to profit ratio\\n\\n### \\u0060FinancialMathPlugin-get_valuation_to_revenue\\u0060\\nDescription: Given the valuation in millions and the revenue in millions, returns the valuation to revenue ratio.\\nInputs:\\n    - valuationInMillions: valuationInMillions-number - (required)\\n    - revenueInMillions: revenueInMillions-number - (required)\\nOutput: Double - The valuation to revenue ratio\\n\\nIMPORTANT: You can only use the helpers that are listed above. Do not use any other helpers that are not explicitly listed here. For example, do not use \\u0060{{log}}\\u0060 or any \\u0060{{Example}}\\u0060 helpers, as they are not supported.\\n\"},{\"role\":\"user\",\"content\":\"## Goal\\nWhat is the valuation to profit ratio for Fedex?\\n### Predefined Variables\\nYou have these predefined variables that can be used within the template. You can access these variables using \\u0060@root\\u0060 (e.g., \\u0060@root.variableName\\u0060).\\nOnly use the \\u0060@root\\u0060 object when referencing values from this initial context.\\n\\n- \\u0022history\\u0022 (String): \\u0022\\u0022\\n- \\u0022promptExecutionSettings\\u0022 (AzureOpenAIPromptExecutionSettings): {\\r\\n  \\u0022temperature\\u0022: 0.001,\\r\\n  \\u0022top_p\\u0022: 1,\\r\\n  \\u0022presence_penalty\\u0022: 0,\\r\\n  \\u0022frequency_penalty\\u0022: 0,\\r\\n  \\u0022max_tokens\\u0022: 1024,\\r\\n  \\u0022ToolCallBehavior\\u0022: null,\\r\\n  \\u0022User\\u0022: null,\\r\\n  \\u0022service_id\\u0022: null,\\r\\n  \\u0022model_id\\u0022: null,\\r\\n  \\u0022function_choice_behavior\\u0022: null\\r\\n}\\n- \\u0022CompanyText\\u0022 (String): \\u0022exit\\u0022\\n- \\u0022id\\u0022 (Int32): -1\\n\\nPlease note that these variables are not necessarily relevant to your goal. Before you use a predefined variable in the template, ensure it makes sense in the context of the goal and helpers available. Remember to extract key values from the goal as well.\\n\"},{\"role\":\"system\",\"content\":\"## Tips and reminders\\n- Add a comment above each step to describe what the step does.\\n- Each variable should have a well-defined name.\\n- Be extremely careful about types. For example, if you pass an array to a helper that expects a number, the template will error out.\\n- Each step should contain only one helper call.\\n\\n## Start\\nFollow these steps to create one Handlebars template to achieve the goal:\\n0. Extract Key Values:\\n  - Read the goal and any user-provided content carefully and identify any relevant strings, numbers, or conditions that you\\u0027ll need. Do not modify any data.\\n  - When generating variables or helper inputs, only use content that the user has explicitly provided or confirmed. If the user did not explicitly provide specific information, you should not invent or assume this information.\\n  - Use the \\u0060{{set}}\\u0060 helper to create a variable for each key value.\\n  - Omit this step if no values are needed from the initial context.\\n1. Choose the Right Helpers:\\n  - Use the provided helpers to manipulate the variables you\\u0027ve created. Start with the basic helpers and only use custom helpers if necessary to accomplish the goal.\\n  - Be careful with syntax, i.e., Always reference a custom helper by its full name and remember to use a \\u0060#\\u0060 for all block helpers.\\n2. Don\\u0027t Create or Assume Unlisted Helpers:\\n  - Only use the helpers provided. Any helper not listed is considered hallucinated and must not be used.\\n  - Do not invent or assume the existence of any functions not explicitly defined above.\\n3. What if I Need More Helpers?\\n  - Stop here if the goal cannot be fully achieved with the provided helpers or you need a helper not defined, and just return a string with an appropriate error message.\\n4. Keep It Simple:\\n  - Avoid using loops or block expressions. They are allowed but not always necessary, so try to find a solution that does not use them.\\n  - Your template should be intelligent and efficient, avoiding unnecessary complexity or redundant steps.\\n5. No Nested Helpers:\\n  - Do not nest helpers or conditionals inside other helpers. This can cause errors in the template.\\n6. Output the Result:\\n  - Once you have completed the necessary steps to reach the goal, use the \\u0060{{json}}\\u0060 helper and print only your final template.\\n  - Ensure your template and all steps are enclosed in a \\u0060\\u0060\\u0060 handlebars block.\\n\\nRemember, the objective is not to use all the helpers available, but to use the correct ones to achieve the desired outcome with a clear and concise template.\\n\"}],\"model\":\"gpt-4o\"}\n",
      "\n",
      "Response:\n",
      "StatusCode: 200, ReasonPhrase: 'OK', Version: 1.1, Content: System.Net.Http.HttpConnectionResponseContent, Headers:\n",
      "{\n",
      "  Date: Wed, 23 Oct 2024 17:24:20 GMT\n",
      "  Connection: keep-alive\n",
      "  x-ms-region: East US 2\n",
      "  apim-request-id: 3d9ce5f3-7db5-447b-9b38-4f06e7a37704\n",
      "  x-ratelimit-remaining-requests: 29\n",
      "  x-ms-rai-invoked: true\n",
      "  X-Request-ID: 4e91b4a7-4ae1-4b87-98bf-1225d109a37c\n",
      "  Strict-Transport-Security: max-age=31536000; includeSubDomains; preload\n",
      "  azureml-model-session: d087-20240921102800\n",
      "  X-Content-Type-Options: nosniff\n",
      "  x-envoy-upstream-service-time: 2348\n",
      "  x-ms-client-request-id: 04a72f2c-47e9-49c0-be5c-9b90d9a4c284\n",
      "  x-ratelimit-remaining-tokens: 26782\n",
      "  Content-Type: application/json\n",
      "  Content-Length: 1744\n",
      "}\n",
      "{\"choices\":[{\"content_filter_results\":{\"hate\":{\"filtered\":false,\"severity\":\"safe\"},\"protected_material_code\":{\"filtered\":false,\"detected\":false},\"protected_material_text\":{\"filtered\":false,\"detected\":false},\"self_harm\":{\"filtered\":false,\"severity\":\"safe\"},\"sexual\":{\"filtered\":false,\"severity\":\"safe\"},\"violence\":{\"filtered\":false,\"severity\":\"safe\"}},\"finish_reason\":\"stop\",\"index\":0,\"logprobs\":null,\"message\":{\"content\":\"```handlebars\\n{{!-- Step 0: Set the company text to the company name --}}\\n{{set \\\"companyName\\\" \\\"Fedex\\\"}}\\n\\n{{!-- Step 1: Find the company ID using the company name --}}\\n{{set \\\"companyId\\\" (CompanyDataPlugin-find_company CompanyText=companyName)}}\\n\\n{{!-- Step 2: Retrieve the company data using the company ID --}}\\n{{set \\\"companyData\\\" (CompanyDataPlugin-get_company_data Id=companyId)}}\\n\\n{{!-- Step 3: Calculate the valuation to profit ratio using company data --}}\\n{{set \\\"valuationToProfitRatio\\\" (FinancialMathPlugin-get_valuation_to_profit valuationInMillions=companyData.ValuationInMillions profitInMillions=companyData.ProfitInMillions)}}\\n\\n{{!-- Step 4: Output the valuation to profit ratio --}}\\n{{json valuationToProfitRatio}}\\n```\",\"role\":\"assistant\"}}],\"created\":1729704258,\"id\":\"chatcmpl-ALZNignj93ZOi5baPbyWpWPplmJU4\",\"model\":\"gpt-4o-2024-05-13\",\"object\":\"chat.completion\",\"prompt_filter_results\":[{\"prompt_index\":0,\"content_filter_results\":{\"hate\":{\"filtered\":false,\"severity\":\"safe\"},\"jailbreak\":{\"filtered\":false,\"detected\":false},\"self_harm\":{\"filtered\":false,\"severity\":\"safe\"},\"sexual\":{\"filtered\":false,\"severity\":\"safe\"},\"violence\":{\"filtered\":false,\"severity\":\"safe\"}}}],\"system_fingerprint\":\"fp_67802d9a6d\",\"usage\":{\"completion_tokens\":174,\"prompt_tokens\":2461,\"total_tokens\":2635}}\n",
      "\n",
      "\n",
      "Plan:\n",
      "\n",
      "{{!-- Step 0: Set the company text to the company name --}}\n",
      "{{set \"companyName\" \"Fedex\"}}\n",
      "\n",
      "{{!-- Step 1: Find the company ID using the company name --}}\n",
      "{{set \"companyId\" (CompanyDataPlugin-find_company CompanyText=companyName)}}\n",
      "\n",
      "{{!-- Step 2: Retrieve the company data using the company ID --}}\n",
      "{{set \"companyData\" (CompanyDataPlugin-get_company_data Id=companyId)}}\n",
      "\n",
      "{{!-- Step 3: Calculate the valuation to profit ratio using company data --}}\n",
      "{{set \"valuationToProfitRatio\" (FinancialMathPlugin-get_valuation_to_profit valuationInMillions=companyData.ValuationInMillions profitInMillions=companyData.ProfitInMillions)}}\n",
      "\n",
      "{{!-- Step 4: Output the valuation to profit ratio --}}\n",
      "{{json valuationToProfitRatio}}\n"
     ]
    }
   ],
   "source": [
    "#pragma warning disable SKEXP0060\n",
    "\n",
    "// Question to ask the planner\n",
    "var ask = \"What is the valuation to profit ratio for Fedex?\";\n",
    "\n",
    "// Generate Handlebar template.\n",
    "var plan = await planner.CreatePlanAsync(kernel, ask, arguments);\n",
    "\n",
    "Console.WriteLine(\"Plan:\\n\");\n",
    "Console.WriteLine(plan);"
   ]
  },
  {
   "cell_type": "code",
   "execution_count": 13,
   "metadata": {
    "dotnet_interactive": {
     "language": "csharp"
    },
    "polyglot_notebook": {
     "kernelName": "csharp"
    },
    "vscode": {
     "languageId": "polyglot-notebook"
    }
   },
   "outputs": [
    {
     "name": "stdout",
     "output_type": "stream",
     "text": [
      "Plan results:\n",
      "\n",
      "15.010716152639834\n",
      "\n"
     ]
    }
   ],
   "source": [
    "#pragma warning disable SKEXP0060\n",
    "\n",
    "// Execute Handlebar template.\n",
    "var planResult = await plan.InvokeAsync(kernel);\n",
    "\n",
    "Console.WriteLine(\"Plan results:\\n\");\n",
    "Console.WriteLine(Utils.WordWrap(planResult.ToString(), 100));"
   ]
  },
  {
   "cell_type": "code",
   "execution_count": 18,
   "metadata": {
    "dotnet_interactive": {
     "language": "csharp"
    },
    "polyglot_notebook": {
     "kernelName": "csharp"
    },
    "vscode": {
     "languageId": "polyglot-notebook"
    }
   },
   "outputs": [],
   "source": [
    "#pragma warning disable SKEXP0060\n",
    "\n",
    "// Ask questions in a loop like a chatbot, with support for chat history.\n",
    "ask = String.Empty;\n",
    "while (ask != \"exit\")\n",
    "{\n",
    "    ask = await InteractiveKernel.GetInputAsync(\"Please ask your question about the company data\");\n",
    "    if (ask == \"exit\") continue;\n",
    "    Console.WriteLine(\"Asking: \" + ask);\n",
    "    plan = await planner.CreatePlanAsync(kernel, ask, arguments);\n",
    "    planResult = await plan.InvokeAsync(kernel);\n",
    "    Console.WriteLine(Utils.WordWrap(planResult.ToString(), 100));\n",
    "    history += $\"\\nUser: {ask}\\nAI: {planResult.ToString()}\\n\";\n",
    "    arguments[\"history\"] = history;\n",
    "}\n"
   ]
  },
  {
   "cell_type": "code",
   "execution_count": 8,
   "metadata": {
    "vscode": {
     "languageId": "polyglot-notebook"
    }
   },
   "outputs": [
    {
     "name": "stdout",
     "output_type": "stream",
     "text": [
      "Request:\n",
      "Method: POST, RequestUri: 'https://podcastchat.openai.azure.com/openai/deployments/gpt-4o/chat/completions?api-version=2024-08-01-preview', Version: 1.1, Content: System.ClientModel.Primitives.HttpClientPipelineTransport+HttpPipelineRequest+MessageBodyAdapter, Headers:\n",
      "{\n",
      "  Accept: application/json\n",
      "  User-Agent: Semantic-Kernel azsdk-net-AI.OpenAI/2.1.0-beta.1 (.NET 8.0.10; Microsoft Windows 10.0.26100)\n",
      "  x-ms-client-request-id: 0b18aaa2-fe51-4e5a-a044-fce858a9c1bc\n",
      "  Semantic-Kernel-Version: 1.24.1.0\n",
      "  Authorization: [REDACTED]\n",
      "  Content-Type: application/json\n",
      "}\n",
      "{\"messages\":[{\"role\":\"user\",\"content\":\"# Task Description\\n\\n1. Please extract a list of entities related to A single company name from the text between the \\u003Cinput_context\\u003E tags.\\n2. These are some sample entities related to A single company name to help you decide what to extract: Microsoft, Apple, Google, Amazon, Facebook, Tesla, IBM, Oracle, Walmart, Fedex\\n3. The list in (2) is provided to help you decide which entities to extract, but you may choose to include entities which are related to A single company name but which are not listed in (2).\\n4. As the first part of your response, generate a bulleted list of each of the items in (1) together with an explanation of what they are.\\n5. Go over each item in your bulleted list and read the explanation of what it is. Keep items which are related to A single company name\\n6. Go over each item in your bulleted list and verify that it appears between the \\u003Cinput_context\\u003E tags.\\n7. Go over each item in your bulleted list and check for duplicates. Keep only one example of each. Duplicates may be:\\n    - Abbreviations\\n    - Reuse as adjectives\\n    - Plurals and related changes\\n8. Return the bulleted list of entities between \\u003Centities\\u003E and \\u003C/entities\\u003E.\\n\\n# Examples\\n\\n## Example 1\\n\\nIn the following example, the task is to extract entities related to food, with \\u0027apple\\u0027 and \\u0027lime\\u0027 as examples:\\n\\n\\u003Cinput_context\\u003E\\nOranges and lemons,\\nSay the bells of St. Clement\\u0027s.\\n\\nYou owe me five farthings,\\nSay the bells of St. Martin\\u0027s.\\n\\u003C/input_context\\u003E\\n\\nResponse:\\n\\u003Centities\\u003E\\n- Orange\\n- Lemon\\n\\u003C/entities\\u003E\\n\\n## Example 2\\n\\nIn the following example, the task was to extract entities related to animals, with \\u0027fish\\u0027 and \\u0027goat\\u0027 as examples:\\n\\n\\u003Cinput_context\\u003E\\nBelinda lived in a little white house,\\nWith a little black kitten and a little gray mouse,\\nAnd a little yellow dog and a little red wagon,\\nAnd a realio, trulio, little pet dragon\\n\\u003C/input_context\\u003E\\n\\nResponse:\\n\\u003Centities\\u003E\\n- kitten\\n- mouse\\n- dog\\n- dragon\\n\\u003C/entities\\u003E\\n\\n# Task\\n\\nExtract entities related to A single company name from the following context. Produce a bulleted list of entities between \\u003Centities\\u003E and \\u003C/entities\\u003E.\\n\\n\\u003Cinput_context\\u003E\\nWhat is the valuation to profit ratio for Fedex?\\n\\u003C/input_context\\u003E\\n\\nResponse:\\n\"}],\"model\":\"gpt-4o\",\"frequency_penalty\":0,\"presence_penalty\":0,\"temperature\":0,\"top_p\":0.1,\"max_tokens\":256}\n",
      "\n",
      "Response:\n",
      "StatusCode: 200, ReasonPhrase: 'OK', Version: 1.1, Content: System.Net.Http.HttpConnectionResponseContent, Headers:\n",
      "{\n",
      "  Date: Wed, 23 Oct 2024 18:39:02 GMT\n",
      "  Connection: keep-alive\n",
      "  x-ms-region: East US 2\n",
      "  apim-request-id: fae21174-2a6a-40c5-b640-c90abb501e48\n",
      "  x-ratelimit-remaining-requests: 29\n",
      "  x-ms-rai-invoked: true\n",
      "  X-Request-ID: 741399b5-3d2e-445d-9f96-57ac8f1d0bcd\n",
      "  Strict-Transport-Security: max-age=31536000; includeSubDomains; preload\n",
      "  azureml-model-session: d087-20240921102800\n",
      "  X-Content-Type-Options: nosniff\n",
      "  x-envoy-upstream-service-time: 284\n",
      "  x-ms-client-request-id: 0b18aaa2-fe51-4e5a-a044-fce858a9c1bc\n",
      "  x-ratelimit-remaining-tokens: 29202\n",
      "  Content-Type: application/json\n",
      "  Content-Length: 1037\n",
      "}\n",
      "{\"choices\":[{\"content_filter_results\":{\"hate\":{\"filtered\":false,\"severity\":\"safe\"},\"protected_material_code\":{\"filtered\":false,\"detected\":false},\"protected_material_text\":{\"filtered\":false,\"detected\":false},\"self_harm\":{\"filtered\":false,\"severity\":\"safe\"},\"sexual\":{\"filtered\":false,\"severity\":\"safe\"},\"violence\":{\"filtered\":false,\"severity\":\"safe\"}},\"finish_reason\":\"stop\",\"index\":0,\"logprobs\":null,\"message\":{\"content\":\"\\u003centities\\u003e\\n- Fedex\\n\\u003c/entities\\u003e\",\"role\":\"assistant\"}}],\"created\":1729708742,\"id\":\"chatcmpl-ALaY2IzRnXFnZ2k3bpxhC2mLQldYR\",\"model\":\"gpt-4o-2024-05-13\",\"object\":\"chat.completion\",\"prompt_filter_results\":[{\"prompt_index\":0,\"content_filter_results\":{\"hate\":{\"filtered\":false,\"severity\":\"safe\"},\"jailbreak\":{\"filtered\":false,\"detected\":false},\"self_harm\":{\"filtered\":false,\"severity\":\"safe\"},\"sexual\":{\"filtered\":false,\"severity\":\"safe\"},\"violence\":{\"filtered\":false,\"severity\":\"safe\"}}}],\"system_fingerprint\":\"fp_67802d9a6d\",\"usage\":{\"completion_tokens\":10,\"prompt_tokens\":516,\"total_tokens\":526}}\n",
      "\n",
      "\n",
      "<entities>\n",
      "- Fedex\n",
      "</entities>\n",
      "Fedex\n",
      "Company ID: 40\n",
      "CompanyRecord { Id = 40, Rank = 41, Name = FedEx, Industry = Mail, Package and Freight Delivery, City = Memphis, State = Tennessee, Zip = 38120, Website = www.fedex.com, Employees = 464400, RevenueInMillions = 93512, ProfitInMillions = 3826, ValuationInMillions = 57431, Ticker = FDX, CEO = Raj Subramaniam }\n",
      "Request:\n",
      "Method: POST, RequestUri: 'https://podcastchat.openai.azure.com/openai/deployments/gpt-4o/chat/completions?api-version=2024-08-01-preview', Version: 1.1, Content: System.ClientModel.Primitives.HttpClientPipelineTransport+HttpPipelineRequest+MessageBodyAdapter, Headers:\n",
      "{\n",
      "  Accept: application/json\n",
      "  User-Agent: Semantic-Kernel azsdk-net-AI.OpenAI/2.1.0-beta.1 (.NET 8.0.10; Microsoft Windows 10.0.26100)\n",
      "  x-ms-client-request-id: cd6810d7-57da-4fdc-bb66-d3d508f74f4f\n",
      "  Semantic-Kernel-Version: 1.24.1.0\n",
      "  Authorization: [REDACTED]\n",
      "  Content-Type: application/json\n",
      "}\n",
      "{\"messages\":[{\"role\":\"user\",\"content\":\"I am a highly intelligent question answering bot. If you ask me a question that is rooted in truth, I will give you the answer. If you ask me a question that is nonsense, trickery, or has no clear answer, I will respond with \\u0022Unknown\\u0022.\\n\\nQ: What is human life expectancy in the United States?\\nA: Human life expectancy in the United States is 78 years.\\n\\nQ: Who was president of the United States in 1955?\\nA: Dwight D. Eisenhower was president of the United States in 1955.\\n\\nQ: Which party did he belong to?\\nA: He belonged to the Republican Party.\\n\\nQ: What is the square root of banana?\\nA: Unknown\\n\\nQ: How does a telescope work?\\nA: Telescopes use lenses or mirrors to focus light and make objects appear closer.\\n\\nQ: Where did the first humans land on the moon in 1969?\\nA: The first humans landed on the moon on the southwestern edge of the Sea of Tranquility.\\n\\nQ: Name 3 movies about outer space.\\nA: Aliens, Star Wars, Apollo 13\\n\\nQ: How many squigs are in a bonk?\\nA: Unknown\\n\\nQ: What is the valuation to profit ratio for Fedex?\\n Company Data:CompanyRecord { Id = 40, Rank = 41, Name = FedEx, Industry = Mail, Package and Freight Delivery, City = Memphis, State = Tennessee, Zip = 38120, Website = www.fedex.com, Employees = 464400, RevenueInMillions = 93512, ProfitInMillions = 3826, ValuationInMillions = 57431, Ticker = FDX, CEO = Raj Subramaniam }\\n\\n\"}],\"model\":\"gpt-4o\",\"frequency_penalty\":0,\"presence_penalty\":0,\"temperature\":0,\"top_p\":0,\"max_tokens\":100}\n",
      "\n",
      "Response:\n",
      "StatusCode: 200, ReasonPhrase: 'OK', Version: 1.1, Content: System.Net.Http.HttpConnectionResponseContent, Headers:\n",
      "{\n",
      "  Date: Wed, 23 Oct 2024 18:39:03 GMT\n",
      "  Connection: keep-alive\n",
      "  x-ms-region: East US 2\n",
      "  apim-request-id: 96bf4e1e-d9df-42c4-b566-01eb61be552c\n",
      "  x-ratelimit-remaining-requests: 28\n",
      "  x-ms-rai-invoked: true\n",
      "  X-Request-ID: a9d3ff32-f1c2-417a-a8d8-7f1e787c4327\n",
      "  Strict-Transport-Security: max-age=31536000; includeSubDomains; preload\n",
      "  azureml-model-session: d112-20240923030029\n",
      "  X-Content-Type-Options: nosniff\n",
      "  x-envoy-upstream-service-time: 1252\n",
      "  x-ms-client-request-id: cd6810d7-57da-4fdc-bb66-d3d508f74f4f\n",
      "  x-ratelimit-remaining-tokens: 28764\n",
      "  Content-Type: application/json\n",
      "  Content-Length: 1310\n",
      "}\n",
      "{\"choices\":[{\"content_filter_results\":{\"hate\":{\"filtered\":false,\"severity\":\"safe\"},\"protected_material_code\":{\"filtered\":false,\"detected\":false},\"protected_material_text\":{\"filtered\":false,\"detected\":false},\"self_harm\":{\"filtered\":false,\"severity\":\"safe\"},\"sexual\":{\"filtered\":false,\"severity\":\"safe\"},\"violence\":{\"filtered\":false,\"severity\":\"safe\"}},\"finish_reason\":\"stop\",\"index\":0,\"logprobs\":null,\"message\":{\"content\":\"The valuation to profit ratio for FedEx can be calculated by dividing the company's valuation by its profit. \\n\\nGiven:\\n- Valuation: $57,431 million\\n- Profit: $3,826 million\\n\\nValuation to profit ratio = Valuation / Profit\\n= 57,431 / 3,826\\n≈ 15.01\\n\\nSo, the valuation to profit ratio for FedEx is approximately 15.01.\",\"role\":\"assistant\"}}],\"created\":1729708742,\"id\":\"chatcmpl-ALaY2lUYv88vwlgiIbx2UZCE3wt3O\",\"model\":\"gpt-4o-2024-05-13\",\"object\":\"chat.completion\",\"prompt_filter_results\":[{\"prompt_index\":0,\"content_filter_results\":{\"hate\":{\"filtered\":false,\"severity\":\"safe\"},\"jailbreak\":{\"filtered\":false,\"detected\":false},\"self_harm\":{\"filtered\":false,\"severity\":\"safe\"},\"sexual\":{\"filtered\":false,\"severity\":\"safe\"},\"violence\":{\"filtered\":false,\"severity\":\"safe\"}}}],\"system_fingerprint\":\"fp_67802d9a6d\",\"usage\":{\"completion_tokens\":87,\"prompt_tokens\":362,\"total_tokens\":449}}\n",
      "\n",
      "\n",
      "The valuation to profit ratio for FedEx can be calculated by dividing the company's valuation by its profit. \n",
      "\n",
      "Given:\n",
      "- Valuation: $57,431 million\n",
      "- Profit: $3,826 million\n",
      "\n",
      "Valuation to profit ratio = Valuation / Profit\n",
      "= 57,431 / 3,826\n",
      "≈ 15.01\n",
      "\n",
      "So, the valuation to profit ratio for FedEx is approximately 15.01.\n"
     ]
    }
   ],
   "source": [
    "// Use of Function Calling for using the CompanyData Plugin\n",
    "// Question from the user.\n",
    "var ask = \"What is the valuation to profit ratio for Fedex?\";\n",
    "\n",
    "// First do Named Entity Recognition to extract the company name from the input.\n",
    "arguments[\"input\"] = ask;\n",
    "arguments[\"topic\"] = \"A single company name\";\n",
    "arguments[\"example_entities\"] = \"Microsoft, Apple, Google, Amazon, Facebook, Tesla, IBM, Oracle, Walmart, Fedex\";\n",
    "var companies = await kernel.InvokeAsync(groundingPluginFunctions[\"ExtractEntities\"], arguments);\n",
    "Console.WriteLine(companies);\n",
    "\n",
    "// Parse the company name from the output of the NER plugin.\n",
    "List<string> a = companies.ToString().Split(\"\\n\").ToList();\n",
    "var companyName = a[1].Substring(2, a[1].Length - 2);\n",
    "Console.WriteLine(companyName);\n",
    "\n",
    "// Call CompanyDataPlugin to get the company data.\n",
    "// First get the ID\n",
    "arguments[\"CompanyText\"] = companyName;\n",
    "arguments[\"Id\"] = await kernel.InvokeAsync<int>(\"CompanyDataPlugin\", \"find_company\", arguments);\n",
    "Console.WriteLine(\"Company ID: \" + arguments[\"Id\"]);\n",
    "\n",
    "// Then get company data based on the ID\n",
    "var company = await kernel.InvokeAsync<CompanyRecord>(\"CompanyDataPlugin\", \"get_company_data\", arguments);\n",
    "Console.WriteLine(company);\n",
    "var input = ask + \"\\n Company Data: \\n\" + company.ToString() + \"\\n\";\n",
    "\n",
    "// Finally answer the user's question given the context data about the company.\n",
    "arguments[\"input\"] = input;\n",
    "var answer = await kernel.InvokeAsync(questionPluginsFunctions[\"Question\"], arguments);\n",
    "Console.WriteLine(answer);\n"
   ]
  }
 ],
 "metadata": {
  "kernelspec": {
   "display_name": ".NET (C#)",
   "language": "C#",
   "name": ".net-csharp"
  },
  "language_info": {
   "name": "python"
  },
  "polyglot_notebook": {
   "kernelInfo": {
    "defaultKernelName": "csharp",
    "items": [
     {
      "aliases": [],
      "name": "csharp"
     }
    ]
   }
  }
 },
 "nbformat": 4,
 "nbformat_minor": 2
}
