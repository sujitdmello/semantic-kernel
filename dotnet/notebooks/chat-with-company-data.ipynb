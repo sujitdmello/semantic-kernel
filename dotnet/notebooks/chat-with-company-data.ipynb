{
 "cells": [
  {
   "cell_type": "code",
   "execution_count": 1,
   "metadata": {
    "dotnet_interactive": {
     "language": "csharp"
    },
    "polyglot_notebook": {
     "kernelName": "csharp"
    },
    "vscode": {
     "languageId": "polyglot-notebook"
    }
   },
   "outputs": [
    {
     "data": {
      "text/html": [
       "<div><div></div><div></div><div><strong>Installed Packages</strong><ul><li><span>Azure.Identity, 1.12.1</span></li><li><span>Microsoft.SemanticKernel, 1.22.0</span></li><li><span>Microsoft.SemanticKernel.Planners.Handlebars, 1.19.0-preview</span></li><li><span>Microsoft.SemanticKernel.Plugins.Core, 1.20.0-alpha</span></li></ul></div></div>"
      ]
     },
     "metadata": {},
     "output_type": "display_data"
    }
   ],
   "source": [
    "#r \"nuget: Microsoft.SemanticKernel\"\n",
    "#r \"nuget: Microsoft.SemanticKernel.Planners.Handlebars, 1.19.0-preview\"\n",
    "#r \"nuget: Microsoft.SemanticKernel.Plugins.Core, 1.19.0-preview\"\n",
    "#r \"nuget: Azure.Identity\"\n",
    "\n",
    "#!import config/Settings.cs\n",
    "#!import config/Utils.cs\n",
    "\n",
    "using Microsoft.SemanticKernel;\n",
    "using Microsoft.SemanticKernel.Connectors.AzureOpenAI;\n",
    "using Kernel = Microsoft.SemanticKernel.Kernel;\n",
    "using Azure.Identity;\n",
    "\n",
    "var builder = Kernel.CreateBuilder();\n",
    "\n",
    "// EntraID authentication options.\n",
    "DefaultAzureCredentialOptions defaultAzureCredentialOptions = new DefaultAzureCredentialOptions \n",
    "{ \n",
    "    ExcludeSharedTokenCacheCredential = true, \n",
    "    ExcludeEnvironmentCredential = true, \n",
    "    ExcludeAzurePowerShellCredential = true, \n",
    "    ExcludeInteractiveBrowserCredential = true, \n",
    "    ExcludeVisualStudioCredential = true, \n",
    "    ExcludeManagedIdentityCredential = true, \n",
    "    ExcludeVisualStudioCodeCredential = true, \n",
    "    ExcludeAzureCliCredential = false // Only use az login credentials\n",
    "};\n",
    "\n",
    "// Configure AI backend used by the kernel\n",
    "var (useAzureOpenAI, model, azureEndpoint, apiKey, orgId) = Settings.LoadFromFile();\n",
    "AzureOpenAIPromptExecutionSettings pes = new AzureOpenAIPromptExecutionSettings { MaxTokens = 100, Temperature = 0.001, TopP = 1.0, FrequencyPenalty = 0.0, PresencePenalty = 0.0 };  \n",
    "\n",
    "if (useAzureOpenAI)\n",
    "    builder.AddAzureOpenAIChatCompletion(model, azureEndpoint, new DefaultAzureCredential(defaultAzureCredentialOptions));\n",
    "else\n",
    "    builder.AddOpenAIChatCompletion(model, apiKey, orgId);\n",
    "\n",
    "var kernel = builder.Build();"
   ]
  },
  {
   "cell_type": "code",
   "execution_count": 2,
   "metadata": {
    "dotnet_interactive": {
     "language": "csharp"
    },
    "polyglot_notebook": {
     "kernelName": "csharp"
    },
    "vscode": {
     "languageId": "polyglot-notebook"
    }
   },
   "outputs": [],
   "source": [
    "using Microsoft.SemanticKernel.Planning.Handlebars;\n",
    "\n",
    "#pragma warning disable SKEXP0060\n",
    "// Create a planner instance\n",
    "var planner = new HandlebarsPlanner();"
   ]
  },
  {
   "cell_type": "code",
   "execution_count": 3,
   "metadata": {
    "dotnet_interactive": {
     "language": "csharp"
    },
    "polyglot_notebook": {
     "kernelName": "csharp"
    },
    "vscode": {
     "languageId": "polyglot-notebook"
    }
   },
   "outputs": [],
   "source": [
    "using System.ComponentModel;\n",
    "\n",
    "using System;\n",
    "using System.Collections.Generic;\n",
    "using System.IO;\n",
    "using System.Net.Http;\n",
    "\n",
    "// Define the CompanyRecord class to hold the company data.\n",
    "public record CompanyRecord\n",
    "{\n",
    "    public int Id { get; set; }\n",
    "    public int Rank { get; set; }\n",
    "    public string Name { get; set; }\n",
    "    public string Industry { get; set; }\n",
    "    public string City { get; set; }\n",
    "    public string State { get; set; }\n",
    "    public string Zip { get; set; }\n",
    "    public string Website { get; set; }\n",
    "    public int Employees { get; set; }\n",
    "    public decimal RevenueInMillions { get; set; }\n",
    "    public decimal ProfitInMillions { get; set; }\n",
    "    public decimal ValuationInMillions { get; set; }\n",
    "    public string Ticker { get; set; }\n",
    "    public string CEO { get; set; }\n",
    "}\n",
    "\n",
    "// CompanyData plugin\n",
    "public class CompanyDataPlugin\n",
    "{\n",
    "    HttpClient _httpClient = new HttpClient();\n",
    "    [KernelFunction(\"find_company\")]\n",
    "    [Description(\"Find a company name given a ticker symbol or description of the company.\")]\n",
    "    [return: Description(\"A unique ID to the company. If the ID returned is -1, that means the company info could not be found - in which caswe the user should be informed about it.\")]\n",
    "    public async Task<int> GetCompanyNameAsync(string CompanyText)\n",
    "    {\n",
    "        // Call the API to find/validate the company name.\n",
    "        return await Task.Run(() =>\n",
    "        {\n",
    "            var url = \"http://localhost:5232/company_data/find/\" + CompanyText;\n",
    "            var r = _httpClient.GetAsync(url).Result;   \n",
    "            if (r.StatusCode != System.Net.HttpStatusCode.OK)\n",
    "            {\n",
    "                return -1;\n",
    "            }\n",
    "            return int.Parse(r.Content.ReadAsStringAsync().Result);\n",
    "        });\n",
    "    }\n",
    "\n",
    "    [KernelFunction(\"get_company_data\")]\n",
    "    [Description(\"Given the unique ID of a company, returns key data such as rank, industry, ticker symbol, address, website, valuation, profit, revenue, number of employees and CEO.\")]\n",
    "    [return: Description(\"The details of the company\")]\n",
    "    public async Task<CompanyRecord> GetCompanyDataAsync(string Id)\n",
    "    {\n",
    "        // Call the API to get the details of the company based on the ID.\n",
    "        return await Task.Run(() =>\n",
    "        {\n",
    "            var url = \"http://localhost:5232/company_data/\" + int.Parse(Id);\n",
    "            var r = _httpClient.GetAsync(url).Result;\n",
    "            var json = JsonDocument.Parse(r.Content.ReadAsStringAsync().Result);\n",
    "            var root = json.RootElement;\n",
    "            return new CompanyRecord\n",
    "            {\n",
    "                Id = root.GetProperty(\"id\").GetInt32(),\n",
    "                Rank = root.GetProperty(\"rank\").GetInt32(),\n",
    "                Name = root.GetProperty(\"name\").GetString(),\n",
    "                Industry = root.GetProperty(\"industry\").GetString(),\n",
    "                City = root.GetProperty(\"city\").GetString(),\n",
    "                State = root.GetProperty(\"state\").GetString(),\n",
    "                Zip = root.GetProperty(\"zip\").GetString(),\n",
    "                Website = root.GetProperty(\"website\").GetString(),\n",
    "                Employees = root.GetProperty(\"employees\").GetInt32(),\n",
    "                RevenueInMillions = root.GetProperty(\"revenueInMillions\").GetDecimal(),\n",
    "                ProfitInMillions = root.GetProperty(\"profitInMillions\").GetDecimal(),\n",
    "                ValuationInMillions = root.GetProperty(\"valuationInMillions\").GetDecimal(),\n",
    "                Ticker = root.GetProperty(\"ticker\").GetString(),\n",
    "                CEO = root.GetProperty(\"ceo\").GetString()\n",
    "            };\n",
    "        });\n",
    "    }\n",
    "}\n"
   ]
  },
  {
   "cell_type": "code",
   "execution_count": 4,
   "metadata": {
    "dotnet_interactive": {
     "language": "csharp"
    },
    "polyglot_notebook": {
     "kernelName": "csharp"
    },
    "vscode": {
     "languageId": "polyglot-notebook"
    }
   },
   "outputs": [],
   "source": [
    "#pragma warning disable SKEXP0050\n",
    "\n",
    "//Add the plugins to the kernel\n",
    "using Microsoft.SemanticKernel.Plugins.Core;\n",
    "kernel.ImportPluginFromType<CompanyDataPlugin>();\n",
    "kernel.ImportPluginFromType<MathPlugin>();\n",
    "kernel.ImportPluginFromType<TextPlugin>();"
   ]
  },
  {
   "cell_type": "code",
   "execution_count": 5,
   "metadata": {
    "dotnet_interactive": {
     "language": "csharp"
    },
    "polyglot_notebook": {
     "kernelName": "csharp"
    },
    "vscode": {
     "languageId": "polyglot-notebook"
    }
   },
   "outputs": [
    {
     "name": "stdout",
     "output_type": "stream",
     "text": [
      "Plan:\n",
      "\n",
      "{{!-- Step 0: Set the company name --}}\n",
      "{{set \"companyName\" \"Fedex\"}}\n",
      "\n",
      "{{!-- Step 1: Find the company ID using the CompanyDataPlugin-find_company helper --}}\n",
      "{{set \"companyId\" (CompanyDataPlugin-find_company CompanyText=companyName)}}\n",
      "\n",
      "{{!-- Step 2: Check if the company ID is valid --}}\n",
      "{{#if (equals companyId -1)}}\n",
      "  {{json \"Company not found.\"}}\n",
      "{{else}}\n",
      "  {{!-- Step 3: Get the company data using the CompanyDataPlugin-get_company_data helper --}}\n",
      "  {{set \"companyData\" (CompanyDataPlugin-get_company_data Id=companyId)}}\n",
      "\n",
      "  {{!-- Step 4: Extract ValuationInMillions and ProfitInMillions from companyData --}}\n",
      "  {{set \"valuation\" companyData.ValuationInMillions}}\n",
      "  {{set \"profitability\" companyData.ProfitInMillions}}\n",
      "\n",
      "  {{!-- Step 5: Output the valuation and profitability --}}\n",
      "  {{json (concat \"Valuation: $\" valuation \" million, Profitability: $\" profitability \" million\")}}\n",
      "{{/if}}\n"
     ]
    }
   ],
   "source": [
    "#pragma warning disable SKEXP0060\n",
    "\n",
    "var ask = \"How much is the valuation and profitability of Fedex?\";\n",
    "\n",
    "var plan = await planner.CreatePlanAsync(kernel, ask);\n",
    "\n",
    "Console.WriteLine(\"Plan:\\n\");\n",
    "Console.WriteLine(plan);"
   ]
  },
  {
   "cell_type": "code",
   "execution_count": 6,
   "metadata": {
    "dotnet_interactive": {
     "language": "csharp"
    },
    "polyglot_notebook": {
     "kernelName": "csharp"
    },
    "vscode": {
     "languageId": "polyglot-notebook"
    }
   },
   "outputs": [
    {
     "name": "stdout",
     "output_type": "stream",
     "text": [
      "Plan results:\n",
      "\n",
      "Valuation: $57431 million, Profitability: $3826 million\n",
      "\n"
     ]
    }
   ],
   "source": [
    "#pragma warning disable SKEXP0060\n",
    "\n",
    "var planResult = await plan.InvokeAsync(kernel, new KernelArguments(pes));\n",
    "\n",
    "Console.WriteLine(\"Plan results:\\n\");\n",
    "Console.WriteLine(Utils.WordWrap(planResult.ToString(), 100));"
   ]
  },
  {
   "cell_type": "code",
   "execution_count": 7,
   "metadata": {
    "dotnet_interactive": {
     "language": "csharp"
    },
    "polyglot_notebook": {
     "kernelName": "csharp"
    },
    "vscode": {
     "languageId": "polyglot-notebook"
    }
   },
   "outputs": [],
   "source": [
    "#pragma warning disable SKEXP0060\n",
    "\n",
    "ask = String.Empty;\n",
    "while (ask != \"exit\")\n",
    "{\n",
    "    ask = await InteractiveKernel.GetInputAsync(\"Please ask your question about the company data\");\n",
    "    if (ask == \"exit\") continue;\n",
    "    plan = await planner.CreatePlanAsync(kernel, ask);\n",
    "    planResult = await plan.InvokeAsync(kernel, new KernelArguments());\n",
    "    Console.WriteLine(Utils.WordWrap(planResult.ToString(), 100));\n",
    "}\n"
   ]
  }
 ],
 "metadata": {
  "kernelspec": {
   "display_name": ".NET (C#)",
   "language": "C#",
   "name": ".net-csharp"
  },
  "language_info": {
   "name": "python"
  },
  "polyglot_notebook": {
   "kernelInfo": {
    "defaultKernelName": "csharp",
    "items": [
     {
      "aliases": [],
      "name": "csharp"
     }
    ]
   }
  }
 },
 "nbformat": 4,
 "nbformat_minor": 2
}
