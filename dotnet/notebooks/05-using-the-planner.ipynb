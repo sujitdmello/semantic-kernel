{
 "cells": [
  {
   "attachments": {},
   "cell_type": "markdown",
   "metadata": {},
   "source": [
    "# Introduction to the Planner\n",
    "\n",
    "The Planner is one of the fundamental concepts of the Semantic Kernel. It makes use of the collection of plugins that have been registered to the kernel and using AI, will formulate a plan to execute a given ask.\n",
    "\n",
    "Read more about it [here](https://aka.ms/sk/concepts/planner)."
   ]
  },
  {
   "cell_type": "code",
   "execution_count": 1,
   "metadata": {
    "dotnet_interactive": {
     "language": "csharp"
    },
    "polyglot_notebook": {
     "kernelName": "csharp"
    }
   },
   "outputs": [
    {
     "data": {
      "text/html": [
       "<div><div></div><div></div><div><strong>Installed Packages</strong><ul><li><span>Azure.Identity, 1.4.0</span></li><li><span>Microsoft.SemanticKernel, 1.19.0</span></li><li><span>Microsoft.SemanticKernel.Planners.Handlebars, 1.19.0-preview</span></li></ul></div></div>"
      ]
     },
     "metadata": {},
     "output_type": "display_data"
    }
   ],
   "source": [
    "#r \"nuget: Microsoft.SemanticKernel, 1.19.0\"\n",
    "#r \"nuget: Microsoft.SemanticKernel.Planners.Handlebars, 1.19.0-preview\"\n",
    "#r \"nuget: Azure.Identity, 1.4.0\"\n",
    "\n",
    "#!import config/Settings.cs\n",
    "#!import config/Utils.cs\n",
    "\n",
    "using Microsoft.SemanticKernel;\n",
    "using Microsoft.SemanticKernel.Connectors.OpenAI;\n",
    "using Kernel = Microsoft.SemanticKernel.Kernel;\n",
    "using Azure.Identity;\n",
    "\n",
    "var builder = Kernel.CreateBuilder();\n",
    "DefaultAzureCredentialOptions defaultAzureCredentialOptions = new DefaultAzureCredentialOptions { ExcludeSharedTokenCacheCredential = true, ExcludeEnvironmentCredential = true, ExcludeAzurePowerShellCredential = true, ExcludeInteractiveBrowserCredential = true, ExcludeVisualStudioCredential = true, ExcludeManagedIdentityCredential = true, ExcludeVisualStudioCodeCredential = true, ExcludeAzureCliCredential = false };\n",
    "\n",
    "// Configure AI backend used by the kernel\n",
    "var (useAzureOpenAI, model, azureEndpoint, apiKey, orgId) = Settings.LoadFromFile();\n",
    "\n",
    "if (useAzureOpenAI)\n",
    "    builder.AddAzureOpenAIChatCompletion(model, azureEndpoint, new DefaultAzureCredential(defaultAzureCredentialOptions));\n",
    "else\n",
    "    builder.AddOpenAIChatCompletion(model, apiKey, orgId);\n",
    "\n",
    "var kernel = builder.Build();"
   ]
  },
  {
   "attachments": {},
   "cell_type": "markdown",
   "metadata": {},
   "source": [
    "### Setting Up Handlebars Planner\n",
    "Handlebars Planner is located in the `Microsoft.SemanticKernel.Planning.Handlebars` package."
   ]
  },
  {
   "cell_type": "code",
   "execution_count": 2,
   "metadata": {
    "dotnet_interactive": {
     "language": "csharp"
    },
    "polyglot_notebook": {
     "kernelName": "csharp"
    }
   },
   "outputs": [],
   "source": [
    "using Microsoft.SemanticKernel.Planning.Handlebars;\n",
    "\n",
    "#pragma warning disable SKEXP0060\n",
    "\n",
    "var planner = new HandlebarsPlanner();"
   ]
  },
  {
   "attachments": {},
   "cell_type": "markdown",
   "metadata": {},
   "source": [
    "### Providing plugins to the planner\n",
    "The planner needs to know what plugins are available to it. Here we'll import the `SummarizePlugin` and `WriterPlugin` we have defined on disk."
   ]
  },
  {
   "cell_type": "code",
   "execution_count": 3,
   "metadata": {
    "dotnet_interactive": {
     "language": "csharp"
    },
    "polyglot_notebook": {
     "kernelName": "csharp"
    }
   },
   "outputs": [],
   "source": [
    "var pluginsDirectory = Path.Combine(System.IO.Directory.GetCurrentDirectory(), \"..\", \"..\", \"prompt_template_samples\");\n",
    "\n",
    "kernel.ImportPluginFromPromptDirectory(Path.Combine(pluginsDirectory, \"SummarizePlugin\"));\n",
    "kernel.ImportPluginFromPromptDirectory(Path.Combine(pluginsDirectory, \"WriterPlugin\"));"
   ]
  },
  {
   "attachments": {},
   "cell_type": "markdown",
   "metadata": {},
   "source": [
    "Define your ASK. What do you want the Kernel to do?"
   ]
  },
  {
   "cell_type": "code",
   "execution_count": 4,
   "metadata": {
    "dotnet_interactive": {
     "language": "csharp"
    },
    "polyglot_notebook": {
     "kernelName": "csharp"
    }
   },
   "outputs": [
    {
     "name": "stdout",
     "output_type": "stream",
     "text": [
      "Original plan:\n",
      "\n",
      "{{!-- Step 0: Define a description for the brainstorm --}}\n",
      "{{set \"topicDescription\" \"Valentine's Day date ideas\"}}\n",
      "\n",
      "{{!-- Step 1: Generate ideas for the date using WriterPlugin-Brainstorm custom helper --}}\n",
      "{{set \"dateIdeas\" (WriterPlugin-Brainstorm input=topicDescription)}}\n",
      "\n",
      "{{!-- Step 2: Turn generated ideas into a poem using WriterPlugin-ShortPoem custom helper --}}\n",
      "{{set \"poems\" (WriterPlugin-ShortPoem input=dateIdeas)}}\n",
      "\n",
      "{{!-- Step 3: Output the poems --}}\n",
      "\n",
      "{{json poems}}\n"
     ]
    }
   ],
   "source": [
    "#pragma warning disable SKEXP0060\n",
    "\n",
    "var ask = \"Tomorrow is Valentine's day. I need to come up with a few date ideas. My significant other likes poems so write them in the form of a poem.\";\n",
    "var originalPlan = await planner.CreatePlanAsync(kernel, ask);\n",
    "\n",
    "Console.WriteLine(\"Original plan:\\n\");\n",
    "Console.WriteLine(originalPlan);"
   ]
  },
  {
   "attachments": {},
   "cell_type": "markdown",
   "metadata": {},
   "source": [
    "As you can see in the above plan, the Planner has taken the user's ask and converted it into a Plan object detailing how the AI would go about solving this task.\n",
    "\n",
    "It makes use of the plugins that the Kernel has available to it and determines which functions to call in order to fulfill the user's ask."
   ]
  },
  {
   "attachments": {},
   "cell_type": "markdown",
   "metadata": {},
   "source": [
    "Let's also define an inline plugin and have it be available to the Planner.\n",
    "Be sure to give it a function name and plugin name."
   ]
  },
  {
   "cell_type": "code",
   "execution_count": 5,
   "metadata": {
    "dotnet_interactive": {
     "language": "csharp"
    },
    "polyglot_notebook": {
     "kernelName": "csharp"
    }
   },
   "outputs": [],
   "source": [
    "string skPrompt = \"\"\"\n",
    "{{$input}}\n",
    "\n",
    "Rewrite the above in the style of Shakespeare.\n",
    "\"\"\";\n",
    "\n",
    "var executionSettings = new OpenAIPromptExecutionSettings \n",
    "{\n",
    "    MaxTokens = 2000,\n",
    "    Temperature = 0.7,\n",
    "    TopP = 0.5\n",
    "};\n",
    "\n",
    "var shakespeareFunction = kernel.CreateFunctionFromPrompt(skPrompt, executionSettings, \"Shakespeare\");"
   ]
  },
  {
   "attachments": {},
   "cell_type": "markdown",
   "metadata": {},
   "source": [
    "Let's update our ask using this new plugin."
   ]
  },
  {
   "cell_type": "code",
   "execution_count": 6,
   "metadata": {
    "dotnet_interactive": {
     "language": "csharp"
    },
    "polyglot_notebook": {
     "kernelName": "csharp"
    }
   },
   "outputs": [
    {
     "name": "stdout",
     "output_type": "stream",
     "text": [
      "Updated plan:\n",
      "\n",
      "{{!-- Step 1: Set the style to \"Shakespearean\" --}}\n",
      "{{set \"style\" \"Shakespearean\"}}\n",
      "\n",
      "{{!-- Step 2: Set the input description for the date ideas --}}\n",
      "{{set \"inputDescription\" \"Create a list of romantic date ideas for Valentine's day. She loves Shakespeare, so write them using his style in the form of a poem.\"}}\n",
      "\n",
      "{{!-- Step 3: Generate the poem using WriterPlugin-ShortPoem --}}\n",
      "{{set \"poem\" (WriterPlugin-ShortPoem input=inputDescription)}}\n",
      "\n",
      "{{!-- Step 4: Output the generated poem --}}\n",
      "{{json poem}}\n"
     ]
    }
   ],
   "source": [
    "#pragma warning disable SKEXP0060\n",
    "\n",
    "var ask = @\"Tomorrow is Valentine's day. I need to come up with a few date ideas.\n",
    "She likes Shakespeare so write using his style. Write them in the form of a poem.\";\n",
    "\n",
    "var newPlan = await planner.CreatePlanAsync(kernel, ask);\n",
    "\n",
    "Console.WriteLine(\"Updated plan:\\n\");\n",
    "Console.WriteLine(newPlan);"
   ]
  },
  {
   "attachments": {},
   "cell_type": "markdown",
   "metadata": {},
   "source": [
    "### Executing the plans\n",
    "\n",
    "Now that we have different plans, let's try to execute them! The Kernel can execute the plan using RunAsync."
   ]
  },
  {
   "cell_type": "code",
   "execution_count": 7,
   "metadata": {
    "dotnet_interactive": {
     "language": "csharp"
    },
    "polyglot_notebook": {
     "kernelName": "csharp"
    }
   },
   "outputs": [
    {
     "name": "stdout",
     "output_type": "stream",
     "text": [
      "Original Plan results:\n",
      "\n",
      "**Romantic Dinner at a Fancy Restaurant:**\n",
      "In a restaurant fancy and bright,\n",
      "He tried to impress her\n",
      "that night.\n",
      "But his tie caught on fire,\n",
      "And the waiter, a crier,\n",
      "Said, &quot;Sir, your romance is\n",
      "alight!&quot;\n",
      "\n",
      "**Picnic in the Park with a\n",
      "\n"
     ]
    }
   ],
   "source": [
    "#pragma warning disable SKEXP0060\n",
    "\n",
    "var originalPlanResult = await originalPlan.InvokeAsync(kernel, new KernelArguments());\n",
    "\n",
    "Console.WriteLine(\"Original Plan results:\\n\");\n",
    "Console.WriteLine(Utils.WordWrap(originalPlanResult.ToString(), 100));"
   ]
  },
  {
   "attachments": {},
   "cell_type": "markdown",
   "metadata": {},
   "source": [
    "Now lets execute and print the new plan:"
   ]
  },
  {
   "cell_type": "code",
   "execution_count": 8,
   "metadata": {
    "dotnet_interactive": {
     "language": "csharp"
    },
    "polyglot_notebook": {
     "kernelName": "csharp"
    }
   },
   "outputs": [
    {
     "name": "stdout",
     "output_type": "stream",
     "text": [
      "New Plan results:\n",
      "\n",
      "In fair Verona where we lay our scene,\n",
      "A list of dates for Valentine’s, serene.\n",
      "For she who loves the Bard, with heart so true,\n",
      "These ideas, dear Romeo, are just for you.\n",
      "\n",
      "First, take her to a play, a Shakespearean delight,\n",
      "Where actors prance and\n"
     ]
    }
   ],
   "source": [
    "#pragma warning disable SKEXP0060\n",
    "\n",
    "var newPlanResult = await newPlan.InvokeAsync(kernel, new KernelArguments());\n",
    "\n",
    "Console.WriteLine(\"New Plan results:\\n\");\n",
    "Console.WriteLine(newPlanResult);"
   ]
  }
 ],
 "metadata": {
  "kernelspec": {
   "display_name": ".NET (C#)",
   "language": "C#",
   "name": ".net-csharp"
  },
  "language_info": {
   "name": "polyglot-notebook"
  },
  "polyglot_notebook": {
   "kernelInfo": {
    "defaultKernelName": "csharp",
    "items": [
     {
      "aliases": [],
      "name": "csharp"
     }
    ]
   }
  }
 },
 "nbformat": 4,
 "nbformat_minor": 2
}
