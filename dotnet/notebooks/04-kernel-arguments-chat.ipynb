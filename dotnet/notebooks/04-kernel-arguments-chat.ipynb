{
 "cells": [
  {
   "attachments": {},
   "cell_type": "markdown",
   "metadata": {},
   "source": [
    "# Creating a basic chat experience with kernel arguments\n",
    "\n",
    "In this example, we show how you can build a simple chat bot by sending and updating arguments with your requests. \n",
    "\n",
    "We introduce the Kernel Arguments object which in this demo functions similarly as a key-value store that you can use when running the kernel.  \n",
    "\n",
    "In this chat scenario, as the user talks back and forth with the bot, the arguments get populated with the history of the conversation. During each new run of the kernel, the arguments will be provided to the AI with content. "
   ]
  },
  {
   "cell_type": "code",
   "execution_count": 1,
   "metadata": {
    "dotnet_interactive": {
     "language": "csharp"
    },
    "polyglot_notebook": {
     "kernelName": "csharp"
    },
    "vscode": {
     "languageId": "polyglot-notebook"
    }
   },
   "outputs": [
    {
     "data": {
      "text/html": [
       "<div><div></div><div></div><div><strong>Installed Packages</strong><ul><li><span>Azure.Identity, 1.4.0</span></li><li><span>Microsoft.SemanticKernel, 1.19.0</span></li></ul></div></div>"
      ]
     },
     "metadata": {},
     "output_type": "display_data"
    }
   ],
   "source": [
    "#r \"nuget: Microsoft.SemanticKernel, 1.19.0\"\n",
    "#r \"nuget: Azure.Identity, 1.4.0\"\n",
    "\n",
    "#!import config/Settings.cs\n",
    "\n",
    "using Microsoft.SemanticKernel;\n",
    "using Microsoft.SemanticKernel.Connectors.OpenAI;\n",
    "using Kernel = Microsoft.SemanticKernel.Kernel;\n",
    "using Azure.Identity;\n",
    "\n",
    "var builder = Kernel.CreateBuilder();\n",
    "DefaultAzureCredentialOptions defaultAzureCredentialOptions = new DefaultAzureCredentialOptions { ExcludeSharedTokenCacheCredential = true, ExcludeEnvironmentCredential = true, ExcludeAzurePowerShellCredential = true, ExcludeInteractiveBrowserCredential = true, ExcludeVisualStudioCredential = true, ExcludeManagedIdentityCredential = true, ExcludeVisualStudioCodeCredential = true, ExcludeAzureCliCredential = false };\n",
    "\n",
    "// Configure AI service credentials used by the kernel\n",
    "var (useAzureOpenAI, model, azureEndpoint, apiKey, orgId) = Settings.LoadFromFile();\n",
    "\n",
    "if (useAzureOpenAI)\n",
    "    builder.AddAzureOpenAIChatCompletion(model, azureEndpoint, new DefaultAzureCredential(defaultAzureCredentialOptions));\n",
    "else\n",
    "    builder.AddOpenAIChatCompletion(model, apiKey, orgId);\n",
    "\n",
    "var kernel = builder.Build();"
   ]
  },
  {
   "attachments": {},
   "cell_type": "markdown",
   "metadata": {},
   "source": [
    "Let's define a prompt outlining a dialogue chat bot."
   ]
  },
  {
   "cell_type": "code",
   "execution_count": 2,
   "metadata": {
    "dotnet_interactive": {
     "language": "csharp"
    },
    "polyglot_notebook": {
     "kernelName": "csharp"
    },
    "vscode": {
     "languageId": "polyglot-notebook"
    }
   },
   "outputs": [],
   "source": [
    "const string skPrompt = @\"\n",
    "ChatBot can have a conversation with you about any topic.\n",
    "It can give explicit instructions or say 'I don't know' if it does not have an answer.\n",
    "\n",
    "{{$history}}\n",
    "User: {{$userInput}}\n",
    "ChatBot:\";\n",
    "\n",
    "var executionSettings = new OpenAIPromptExecutionSettings \n",
    "{\n",
    "    MaxTokens = 2000,\n",
    "    Temperature = 0.7,\n",
    "    TopP = 0.5\n",
    "};"
   ]
  },
  {
   "attachments": {},
   "cell_type": "markdown",
   "metadata": {},
   "source": [
    "Register your semantic function"
   ]
  },
  {
   "cell_type": "code",
   "execution_count": 3,
   "metadata": {
    "dotnet_interactive": {
     "language": "csharp"
    },
    "polyglot_notebook": {
     "kernelName": "csharp"
    },
    "vscode": {
     "languageId": "polyglot-notebook"
    }
   },
   "outputs": [],
   "source": [
    "var chatFunction = kernel.CreateFunctionFromPrompt(skPrompt, executionSettings);"
   ]
  },
  {
   "attachments": {},
   "cell_type": "markdown",
   "metadata": {},
   "source": [
    "Initialize your arguments"
   ]
  },
  {
   "cell_type": "code",
   "execution_count": 4,
   "metadata": {
    "dotnet_interactive": {
     "language": "csharp"
    },
    "polyglot_notebook": {
     "kernelName": "csharp"
    },
    "vscode": {
     "languageId": "polyglot-notebook"
    }
   },
   "outputs": [],
   "source": [
    "var history = \"\";\n",
    "var arguments = new KernelArguments()\n",
    "{\n",
    "    [\"history\"] = history\n",
    "};"
   ]
  },
  {
   "attachments": {},
   "cell_type": "markdown",
   "metadata": {},
   "source": [
    "Chat with the Bot"
   ]
  },
  {
   "cell_type": "code",
   "execution_count": 5,
   "metadata": {
    "dotnet_interactive": {
     "language": "csharp"
    },
    "polyglot_notebook": {
     "kernelName": "csharp"
    },
    "vscode": {
     "languageId": "polyglot-notebook"
    }
   },
   "outputs": [],
   "source": [
    "var userInput = \"Hi, I'm looking for book suggestions\";\n",
    "arguments[\"userInput\"] = userInput;\n",
    "\n",
    "var bot_answer = await chatFunction.InvokeAsync(kernel, arguments);"
   ]
  },
  {
   "attachments": {},
   "cell_type": "markdown",
   "metadata": {},
   "source": [
    "Update the history with the output and set this as the new input value for the next request"
   ]
  },
  {
   "cell_type": "code",
   "execution_count": 6,
   "metadata": {
    "dotnet_interactive": {
     "language": "csharp"
    },
    "polyglot_notebook": {
     "kernelName": "csharp"
    },
    "vscode": {
     "languageId": "polyglot-notebook"
    }
   },
   "outputs": [
    {
     "name": "stdout",
     "output_type": "stream",
     "text": [
      "\n",
      "User: Hi, I'm looking for book suggestions\n",
      "AI: Hi! I'd be happy to help with book suggestions. Could you tell me a bit about what genres or types of books you enjoy? For example, do you like fiction, non-fiction, mystery, fantasy, science fiction, romance, or something else?\n",
      "\r\n"
     ]
    }
   ],
   "source": [
    "history += $\"\\nUser: {userInput}\\nAI: {bot_answer}\\n\";\n",
    "arguments[\"history\"] = history;\n",
    "\n",
    "Console.WriteLine(history);"
   ]
  },
  {
   "attachments": {},
   "cell_type": "markdown",
   "metadata": {},
   "source": [
    "Keep Chatting!"
   ]
  },
  {
   "cell_type": "code",
   "execution_count": 7,
   "metadata": {
    "dotnet_interactive": {
     "language": "csharp"
    },
    "polyglot_notebook": {
     "kernelName": "csharp"
    },
    "vscode": {
     "languageId": "polyglot-notebook"
    }
   },
   "outputs": [],
   "source": [
    "Func<string, Task> Chat = async (string input) => {\n",
    "    // Save new message in the arguments\n",
    "    arguments[\"userInput\"] = input;\n",
    "\n",
    "    // Process the user message and get an answer\n",
    "    var answer = await chatFunction.InvokeAsync(kernel, arguments);\n",
    "\n",
    "    // Append the new interaction to the chat history\n",
    "    var result = $\"\\nUser: {input}\\nAI: {answer}\\n\";\n",
    "    history += result;\n",
    "\n",
    "    arguments[\"history\"] = history;\n",
    "    \n",
    "    // Show the response\n",
    "    Console.WriteLine(result);\n",
    "};"
   ]
  },
  {
   "cell_type": "code",
   "execution_count": 8,
   "metadata": {
    "dotnet_interactive": {
     "language": "csharp"
    },
    "polyglot_notebook": {
     "kernelName": "csharp"
    },
    "vscode": {
     "languageId": "polyglot-notebook"
    }
   },
   "outputs": [
    {
     "name": "stdout",
     "output_type": "stream",
     "text": [
      "\n",
      "User: I would like a non-fiction book suggestion about Greece history. Please only list one book.\n",
      "AI: Certainly! I recommend \"The Histories\" by Herodotus. It's a classic work that provides a detailed account of ancient Greece and its neighboring regions. Herodotus is often referred to as \"The Father of History,\" and his writings offer a fascinating glimpse into the historical events, cultures, and societies of the time.\n",
      "\r\n"
     ]
    }
   ],
   "source": [
    "await Chat(\"I would like a non-fiction book suggestion about Greece history. Please only list one book.\");"
   ]
  },
  {
   "cell_type": "code",
   "execution_count": 9,
   "metadata": {
    "dotnet_interactive": {
     "language": "csharp"
    },
    "polyglot_notebook": {
     "kernelName": "csharp"
    },
    "vscode": {
     "languageId": "polyglot-notebook"
    }
   },
   "outputs": [
    {
     "name": "stdout",
     "output_type": "stream",
     "text": [
      "\n",
      "User: that sounds interesting, what are some of the topics I will learn about?\n",
      "AI: In \"The Histories\" by Herodotus, you will encounter a wide range of topics related to ancient Greece and its neighboring regions. Some of the key topics include:\n",
      "\n",
      "1. **The Greco-Persian Wars**: Detailed accounts of the conflicts between the Greek city-states and the Persian Empire, including famous battles like Marathon, Thermopylae, and Salamis.\n",
      "\n",
      "2. **Cultural Practices**: Descriptions of the customs, traditions, and daily life of various peoples, including the Egyptians, Persians, and Scythians.\n",
      "\n",
      "3. **Geography and Ethnography**: Insights into the geography of the ancient world and the characteristics of different regions and their inhabitants.\n",
      "\n",
      "4. **Political History**: Narratives about the rise and fall of empires, the politics of city-states, and the leadership of key figures such as Cyrus the Great, Darius, and Xerxes.\n",
      "\n",
      "5. **Mythology and Legends**: Accounts of myths, legends, and folklore that were integral to the cultures of the time.\n",
      "\n",
      "6. **Economics and Trade**: Information on the economic practices, trade routes, and resources of various regions.\n",
      "\n",
      "7. **Philosophical and Moral Reflections**: Herodotus often includes his own reflections on human nature, fate, and the causes of events.\n",
      "\n",
      "Overall, \"The Histories\" offers a rich tapestry of historical, cultural, and social information that provides a comprehensive view of the ancient world.\n",
      "\r\n"
     ]
    }
   ],
   "source": [
    "await Chat(\"that sounds interesting, what are some of the topics I will learn about?\");"
   ]
  },
  {
   "cell_type": "code",
   "execution_count": 10,
   "metadata": {
    "dotnet_interactive": {
     "language": "csharp"
    },
    "polyglot_notebook": {
     "kernelName": "csharp"
    },
    "vscode": {
     "languageId": "polyglot-notebook"
    }
   },
   "outputs": [
    {
     "name": "stdout",
     "output_type": "stream",
     "text": [
      "\n",
      "User: Which topic from the ones you listed do you think most people find interesting?\n",
      "AI: While interest can vary greatly from person to person, many readers find the accounts of **The Greco-Persian Wars** particularly fascinating. These sections of \"The Histories\" are filled with dramatic and pivotal moments, such as the Battle of Marathon, the heroic stand of the Spartans at Thermopylae, and the naval battle of Salamis. These events are not only significant in terms of military history but also in shaping the future of Western civilization. The stories of strategy, bravery, and the clash of cultures often captivate readers and provide a thrilling narrative that stands out in Herodotus's work.\n",
      "\r\n"
     ]
    }
   ],
   "source": [
    "await Chat(\"Which topic from the ones you listed do you think most people find interesting?\");"
   ]
  },
  {
   "cell_type": "code",
   "execution_count": 11,
   "metadata": {
    "dotnet_interactive": {
     "language": "csharp"
    },
    "polyglot_notebook": {
     "kernelName": "csharp"
    },
    "vscode": {
     "languageId": "polyglot-notebook"
    }
   },
   "outputs": [
    {
     "name": "stdout",
     "output_type": "stream",
     "text": [
      "\n",
      "User: could you list some more books I could read about the topic(s) you mentioned?\n",
      "AI: Certainly! Here are some more books that delve into the topics mentioned, particularly focusing on the Greco-Persian Wars and other aspects of ancient Greek history:\n",
      "\n",
      "1. **\"The Persian Wars\" by Herodotus** - This is a more focused translation and edition of Herodotus's work, specifically highlighting the Greco-Persian Wars.\n",
      "\n",
      "2. **\"The Landmark Herodotus: The Histories\" edited by Robert B. Strassler** - This edition provides extensive maps, annotations, and essays to help readers better understand Herodotus's work.\n",
      "\n",
      "3. **\"The Histories\" by Polybius** - Another ancient historian, Polybius provides a detailed account of the rise of the Roman Republic, which includes interactions with Greek states.\n",
      "\n",
      "4. **\"Persian Fire: The First World Empire and the Battle for the West\" by Tom Holland** - This book offers a modern and engaging account of the Greco-Persian Wars, providing context and analysis.\n",
      "\n",
      "5. **\"The Spartans: The World of the Warrior-Heroes of Ancient Greece\" by Paul Cartledge** - This book delves into the culture and history of Sparta, including their role in the Greco-Persian Wars.\n",
      "\n",
      "6. **\"The Battle of Salamis: The Naval Encounter that Saved Greece—and Western Civilization\" by Barry Strauss** - A detailed account of the pivotal naval battle during the Greco-Persian Wars.\n",
      "\n",
      "7. **\"Gates of Fire: An Epic Novel of the Battle of Thermopylae\" by Steven Pressfield** - While this is a historical novel, it provides a vivid and well-researched portrayal of the Battle of Thermopylae.\n",
      "\n",
      "8. **\"The Peloponnesian War\" by Thucydides** - Although focused on the later conflict between Athens and Sparta, Thucydides provides invaluable insights into Greek politics, warfare, and society.\n",
      "\n",
      "These books should provide a comprehensive and engaging exploration of the topics related to ancient Greece and the Greco-Persian Wars.\n",
      "\r\n"
     ]
    }
   ],
   "source": [
    "await Chat(\"could you list some more books I could read about the topic(s) you mentioned?\");"
   ]
  },
  {
   "attachments": {},
   "cell_type": "markdown",
   "metadata": {},
   "source": [
    "After chatting for a while, we have built a growing history, which we are attaching to each prompt and which contains the full conversation. Let's take a look!"
   ]
  },
  {
   "cell_type": "code",
   "execution_count": 12,
   "metadata": {
    "dotnet_interactive": {
     "language": "csharp"
    },
    "polyglot_notebook": {
     "kernelName": "csharp"
    },
    "vscode": {
     "languageId": "polyglot-notebook"
    }
   },
   "outputs": [
    {
     "name": "stdout",
     "output_type": "stream",
     "text": [
      "\n",
      "User: Hi, I'm looking for book suggestions\n",
      "AI: Hi! I'd be happy to help with book suggestions. Could you tell me a bit about what genres or types of books you enjoy? For example, do you like fiction, non-fiction, mystery, fantasy, science fiction, romance, or something else?\n",
      "\n",
      "User: I would like a non-fiction book suggestion about Greece history. Please only list one book.\n",
      "AI: Certainly! I recommend \"The Histories\" by Herodotus. It's a classic work that provides a detailed account of ancient Greece and its neighboring regions. Herodotus is often referred to as \"The Father of History,\" and his writings offer a fascinating glimpse into the historical events, cultures, and societies of the time.\n",
      "\n",
      "User: that sounds interesting, what are some of the topics I will learn about?\n",
      "AI: In \"The Histories\" by Herodotus, you will encounter a wide range of topics related to ancient Greece and its neighboring regions. Some of the key topics include:\n",
      "\n",
      "1. **The Greco-Persian Wars**: Detailed accounts of the conflicts between the Greek city-states and the Persian Empire, including famous battles like Marathon, Thermopylae, and Salamis.\n",
      "\n",
      "2. **Cultural Practices**: Descriptions of the customs, traditions, and daily life of various peoples, including the Egyptians, Persians, and Scythians.\n",
      "\n",
      "3. **Geography and Ethnography**: Insights into the geography of the ancient world and the characteristics of different regions and their inhabitants.\n",
      "\n",
      "4. **Political History**: Narratives about the rise and fall of empires, the politics of city-states, and the leadership of key figures such as Cyrus the Great, Darius, and Xerxes.\n",
      "\n",
      "5. **Mythology and Legends**: Accounts of myths, legends, and folklore that were integral to the cultures of the time.\n",
      "\n",
      "6. **Economics and Trade**: Information on the economic practices, trade routes, and resources of various regions.\n",
      "\n",
      "7. **Philosophical and Moral Reflections**: Herodotus often includes his own reflections on human nature, fate, and the causes of events.\n",
      "\n",
      "Overall, \"The Histories\" offers a rich tapestry of historical, cultural, and social information that provides a comprehensive view of the ancient world.\n",
      "\n",
      "User: Which topic from the ones you listed do you think most people find interesting?\n",
      "AI: While interest can vary greatly from person to person, many readers find the accounts of **The Greco-Persian Wars** particularly fascinating. These sections of \"The Histories\" are filled with dramatic and pivotal moments, such as the Battle of Marathon, the heroic stand of the Spartans at Thermopylae, and the naval battle of Salamis. These events are not only significant in terms of military history but also in shaping the future of Western civilization. The stories of strategy, bravery, and the clash of cultures often captivate readers and provide a thrilling narrative that stands out in Herodotus's work.\n",
      "\n",
      "User: could you list some more books I could read about the topic(s) you mentioned?\n",
      "AI: Certainly! Here are some more books that delve into the topics mentioned, particularly focusing on the Greco-Persian Wars and other aspects of ancient Greek history:\n",
      "\n",
      "1. **\"The Persian Wars\" by Herodotus** - This is a more focused translation and edition of Herodotus's work, specifically highlighting the Greco-Persian Wars.\n",
      "\n",
      "2. **\"The Landmark Herodotus: The Histories\" edited by Robert B. Strassler** - This edition provides extensive maps, annotations, and essays to help readers better understand Herodotus's work.\n",
      "\n",
      "3. **\"The Histories\" by Polybius** - Another ancient historian, Polybius provides a detailed account of the rise of the Roman Republic, which includes interactions with Greek states.\n",
      "\n",
      "4. **\"Persian Fire: The First World Empire and the Battle for the West\" by Tom Holland** - This book offers a modern and engaging account of the Greco-Persian Wars, providing context and analysis.\n",
      "\n",
      "5. **\"The Spartans: The World of the Warrior-Heroes of Ancient Greece\" by Paul Cartledge** - This book delves into the culture and history of Sparta, including their role in the Greco-Persian Wars.\n",
      "\n",
      "6. **\"The Battle of Salamis: The Naval Encounter that Saved Greece—and Western Civilization\" by Barry Strauss** - A detailed account of the pivotal naval battle during the Greco-Persian Wars.\n",
      "\n",
      "7. **\"Gates of Fire: An Epic Novel of the Battle of Thermopylae\" by Steven Pressfield** - While this is a historical novel, it provides a vivid and well-researched portrayal of the Battle of Thermopylae.\n",
      "\n",
      "8. **\"The Peloponnesian War\" by Thucydides** - Although focused on the later conflict between Athens and Sparta, Thucydides provides invaluable insights into Greek politics, warfare, and society.\n",
      "\n",
      "These books should provide a comprehensive and engaging exploration of the topics related to ancient Greece and the Greco-Persian Wars.\n",
      "\r\n"
     ]
    }
   ],
   "source": [
    "Console.WriteLine(history);"
   ]
  }
 ],
 "metadata": {
  "kernelspec": {
   "display_name": ".NET (C#)",
   "language": "C#",
   "name": ".net-csharp"
  },
  "language_info": {
   "file_extension": ".cs",
   "mimetype": "text/x-csharp",
   "name": "C#",
   "pygments_lexer": "csharp",
   "version": "11.0"
  },
  "polyglot_notebook": {
   "kernelInfo": {
    "defaultKernelName": "csharp",
    "items": [
     {
      "aliases": [],
      "name": "csharp"
     }
    ]
   }
  }
 },
 "nbformat": 4,
 "nbformat_minor": 2
}
