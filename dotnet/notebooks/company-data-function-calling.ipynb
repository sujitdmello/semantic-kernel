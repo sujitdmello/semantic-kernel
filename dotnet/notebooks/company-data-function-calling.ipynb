{
 "cells": [
  {
   "cell_type": "markdown",
   "metadata": {},
   "source": [
    "### Custom plugin to query company data that is obtained from an API \n",
    "\n",
    "**Uses only Function Calling feature of Semantic Kernel**\n",
    "\n",
    "Make sure that the CompanyData Service is up and running before running this plugin. The CompanyData Service is a simple REST API that provides company data. \n",
    "```bash\n",
    "cd \"dotnet\\notebooks\\CompanyDataService\\CompanyDataService\"\n",
    "dotnet run\n",
    "```\n"
   ]
  },
  {
   "cell_type": "code",
   "execution_count": null,
   "metadata": {
    "dotnet_interactive": {
     "language": "csharp"
    },
    "polyglot_notebook": {
     "kernelName": "csharp"
    },
    "vscode": {
     "languageId": "polyglot-notebook"
    }
   },
   "outputs": [],
   "source": [
    "// Initialization and loading of modules\n",
    "\n",
    "#r \"nuget: Microsoft.SemanticKernel,1.25.0\"\n",
    "#r \"nuget: Azure.Identity\"\n",
    "#r \"nuget: Azure.AI.OpenAI,2.1.0-beta.1\"\n",
    "\n",
    "#!import config/Settings.cs\n",
    "#!import config/Utils.cs\n",
    "\n",
    "using Microsoft.SemanticKernel;\n",
    "using Microsoft.SemanticKernel.Connectors.AzureOpenAI;\n",
    "using Microsoft.SemanticKernel.Connectors.OpenAI;\n",
    "using Microsoft.SemanticKernel.ChatCompletion;\n",
    "using Kernel = Microsoft.SemanticKernel.Kernel;\n",
    "using Azure.Identity;\n",
    "using System.Net.Http;\n",
    "using System.Threading;"
   ]
  },
  {
   "cell_type": "code",
   "execution_count": null,
   "metadata": {
    "dotnet_interactive": {
     "language": "csharp"
    },
    "polyglot_notebook": {
     "kernelName": "csharp"
    },
    "vscode": {
     "languageId": "polyglot-notebook"
    }
   },
   "outputs": [],
   "source": [
    "// Custom HttpClient handler so we can log the input/output of the requests to the LLM API.\n",
    "public class LoggingHandler : DelegatingHandler\n",
    "{\n",
    "    public LoggingHandler(HttpMessageHandler innerHandler)\n",
    "        : base(innerHandler)\n",
    "    {\n",
    "    }\n",
    "\n",
    "    protected override async Task<HttpResponseMessage> SendAsync(HttpRequestMessage request, CancellationToken cancellationToken)\n",
    "    {\n",
    "        Console.WriteLine(\"Request:\");\n",
    "        var r = request.ToString();\n",
    "        var ra = r.Split(\"\\n\");\n",
    "        foreach (var l in ra)\n",
    "        {\n",
    "            if (l.Contains(\"Authorization\"))\n",
    "            {\n",
    "                Console.WriteLine(\"  Authorization: [REDACTED]\");\n",
    "            }\n",
    "            else\n",
    "            {\n",
    "                Console.WriteLine(l);\n",
    "            }\n",
    "        }        \n",
    "        if (request.Content != null)\n",
    "        {\n",
    "            Console.WriteLine(await request.Content.ReadAsStringAsync());\n",
    "        }\n",
    "        Console.WriteLine();\n",
    "\n",
    "        HttpResponseMessage response = await base.SendAsync(request, cancellationToken);\n",
    "\n",
    "        Console.WriteLine(\"Response:\");\n",
    "        Console.WriteLine(response.ToString());\n",
    "        if (response.Content != null)\n",
    "        {\n",
    "            Console.WriteLine(await response.Content.ReadAsStringAsync());\n",
    "        }\n",
    "        Console.WriteLine();\n",
    "\n",
    "        return response;\n",
    "    }\n",
    "}"
   ]
  },
  {
   "cell_type": "code",
   "execution_count": null,
   "metadata": {
    "dotnet_interactive": {
     "language": "csharp"
    },
    "polyglot_notebook": {
     "kernelName": "csharp"
    },
    "vscode": {
     "languageId": "polyglot-notebook"
    }
   },
   "outputs": [],
   "source": [
    "// Create instance of HttpClient with our logging handler.\n",
    "HttpClient oaiCLient = new HttpClient(new LoggingHandler(new HttpClientHandler()));\n",
    "oaiCLient.Timeout = TimeSpan.FromMinutes(5);\n",
    "var builder = Kernel.CreateBuilder();\n",
    "\n",
    "// EntraID authentication options.\n",
    "DefaultAzureCredentialOptions defaultAzureCredentialOptions = new DefaultAzureCredentialOptions \n",
    "{ \n",
    "    ExcludeSharedTokenCacheCredential = true, \n",
    "    ExcludeEnvironmentCredential = true, \n",
    "    ExcludeAzurePowerShellCredential = true, \n",
    "    ExcludeInteractiveBrowserCredential = true, \n",
    "    ExcludeVisualStudioCredential = true, \n",
    "    ExcludeManagedIdentityCredential = true, \n",
    "    ExcludeVisualStudioCodeCredential = true, \n",
    "    ExcludeAzureCliCredential = false // Only use az login credentials\n",
    "};\n",
    "\n",
    "// Configure AI backend used by the kernel\n",
    "var (useAzureOpenAI, model, azureEndpoint, apiKey, orgId) = Settings.LoadFromFile();\n",
    "bool useLocalLLM = false;\n",
    "Uri localLLMEndpoint = new Uri(\"http://localhost:11434/v1\");\n",
    "string localLLMModel = \"phi3:latest\";\n",
    "AzureOpenAIPromptExecutionSettings pes = new AzureOpenAIPromptExecutionSettings { \n",
    "    MaxTokens = 1024, \n",
    "    Temperature = 0.001, \n",
    "    TopP = 1.0, \n",
    "    FrequencyPenalty = 0.0, \n",
    "    PresencePenalty = 0.0,\n",
    "    };  \n",
    "\n",
    "// Initalize history\n",
    "var history = \"\";\n",
    "var arguments = new KernelArguments()\n",
    "{\n",
    "    [\"history\"] = history,\n",
    "    [\"promptExecutionSettings\"] = pes\n",
    "};\n",
    "\n",
    "\n",
    "// Attach custom HttpCLient to the OAI connectors.\n",
    "if (useAzureOpenAI)\n",
    "    builder.AddAzureOpenAIChatCompletion(model, azureEndpoint, credentials: new DefaultAzureCredential(defaultAzureCredentialOptions), httpClient: oaiCLient);\n",
    "else\n",
    "    builder.AddOpenAIChatCompletion(model, apiKey, orgId);\n",
    "\n",
    "var kernel = builder.Build();"
   ]
  },
  {
   "cell_type": "code",
   "execution_count": null,
   "metadata": {
    "dotnet_interactive": {
     "language": "csharp"
    },
    "polyglot_notebook": {
     "kernelName": "csharp"
    },
    "vscode": {
     "languageId": "polyglot-notebook"
    }
   },
   "outputs": [],
   "source": [
    "using System.ComponentModel;\n",
    "\n",
    "using System;\n",
    "using System.Collections.Generic;\n",
    "using System.IO;\n",
    "using System.Net.Http;\n",
    "\n",
    "// Define the CompanyRecord class to hold the company data.\n",
    "public record CompanyRecord\n",
    "{\n",
    "    public int Id { get; set; }\n",
    "    public int Rank { get; set; }\n",
    "    public string Name { get; set; }\n",
    "    public string Industry { get; set; }\n",
    "    public string City { get; set; }\n",
    "    public string State { get; set; }\n",
    "    public string Zip { get; set; }\n",
    "    public string Website { get; set; }\n",
    "    public int Employees { get; set; }\n",
    "    public decimal RevenueInMillions { get; set; }\n",
    "    public decimal ProfitInMillions { get; set; }\n",
    "    public decimal ValuationInMillions { get; set; }\n",
    "    public string Ticker { get; set; }\n",
    "    public string CEO { get; set; }\n",
    "}\n",
    "\n",
    "// CompanyData plugin\n",
    "public sealed class CompanyDataPlugin\n",
    "{\n",
    "    string _companyDataServiceApiEndpoint = \" http://localhost:5232\";\n",
    "    HttpClient _httpClient = new HttpClient();\n",
    "\n",
    "    public CompanyDataPlugin()\n",
    "    {\n",
    "        _httpClient.Timeout = TimeSpan.FromMinutes(5);\n",
    "    }\n",
    "\n",
    "    // These descriptions are important and need to be as precise as possible as the Planner \n",
    "    // will use them as prompts to generate the HandleBar template.\n",
    "    [KernelFunction(\"find_company\")]\n",
    "    [Description(\"Find a company name given a ticker symbol or description of the company.\")]\n",
    "    [return: Description(\"A unique ID to the company. If the ID returned is -1, that means the company info could not be found - in which case the user should be informed about it.\")]\n",
    "    public async Task<int> GetCompanyNameAsync(string CompanyText)\n",
    "    {\n",
    "        // Call the API to find/validate the company name.\n",
    "        return await Task.Run(() =>\n",
    "        {\n",
    "            var url = _companyDataServiceApiEndpoint + \"/company_data/find/\" + CompanyText;\n",
    "            var r = _httpClient.GetAsync(url).Result;   \n",
    "            if (r.StatusCode != System.Net.HttpStatusCode.OK)\n",
    "            {\n",
    "                return -1;\n",
    "            }\n",
    "            return int.Parse(r.Content.ReadAsStringAsync().Result);\n",
    "        });\n",
    "    }\n",
    "\n",
    "    [KernelFunction(\"get_company_data\")]\n",
    "    [Description(\"Given the unique ID of a company, returns key data such as rank, industry, ticker symbol, address, website, valuation, profit, revenue, number of employees and CEO.\")]\n",
    "    [return: Description(\"The details of the company\")]\n",
    "    public async Task<CompanyRecord> GetCompanyDataAsync(int Id)\n",
    "    {\n",
    "        // Call the API to get the details of the company based on the ID.\n",
    "        return await Task.Run(() =>\n",
    "        {\n",
    "            var url = _companyDataServiceApiEndpoint + \"/company_data/\" + Id;\n",
    "            var r = _httpClient.GetAsync(url).Result;\n",
    "            var json = JsonDocument.Parse(r.Content.ReadAsStringAsync().Result);\n",
    "            var root = json.RootElement;\n",
    "            return new CompanyRecord\n",
    "            {\n",
    "                Id = root.GetProperty(\"id\").GetInt32(),\n",
    "                Rank = root.GetProperty(\"rank\").GetInt32(),\n",
    "                Name = root.GetProperty(\"name\").GetString(),\n",
    "                Industry = root.GetProperty(\"industry\").GetString(),\n",
    "                City = root.GetProperty(\"city\").GetString(),\n",
    "                State = root.GetProperty(\"state\").GetString(),\n",
    "                Zip = root.GetProperty(\"zip\").GetString(),\n",
    "                Website = root.GetProperty(\"website\").GetString(),\n",
    "                Employees = root.GetProperty(\"employees\").GetInt32(),\n",
    "                RevenueInMillions = root.GetProperty(\"revenueInMillions\").GetDecimal(),\n",
    "                ProfitInMillions = root.GetProperty(\"profitInMillions\").GetDecimal(),\n",
    "                ValuationInMillions = root.GetProperty(\"valuationInMillions\").GetDecimal(),\n",
    "                Ticker = root.GetProperty(\"ticker\").GetString(),\n",
    "                CEO = root.GetProperty(\"ceo\").GetString()\n",
    "            };\n",
    "        });\n",
    "    }\n",
    "}\n"
   ]
  },
  {
   "cell_type": "code",
   "execution_count": null,
   "metadata": {
    "dotnet_interactive": {
     "language": "csharp"
    },
    "polyglot_notebook": {
     "kernelName": "csharp"
    },
    "vscode": {
     "languageId": "polyglot-notebook"
    }
   },
   "outputs": [],
   "source": [
    "// Financial Math Plugin\n",
    "\n",
    "public sealed class FinancialMathPlugin\n",
    "{\n",
    "    // These descriptions are important and need to be as precise as possible as the Planner \n",
    "    // will use them as prompts to generate the HandleBar template.\n",
    "    [KernelFunction(\"get_profit_margin\")]\n",
    "    [Description(\"Given the profit in millions and the revenue in millions, returns the profit margin in percentage.\")]\n",
    "    [return: Description(\"The profit margin in percentage\")]\n",
    "    public double GetProfitMargin(double profitInMillions, double revenueInMillions)\n",
    "    {\n",
    "        return profitInMillions / revenueInMillions * 100;\n",
    "    }\n",
    "\n",
    "    [KernelFunction(\"get_valuation_to_revenue\")]\n",
    "    [Description(\"Given the valuation in millions and the revenue in millions, returns the valuation to revenue ratio.\")]\n",
    "    [return: Description(\"The valuation to revenue ratio\")]\n",
    "    public double GetValuationToRevenueRatio(double valuationInMillions, double revenueInMillions)\n",
    "    {\n",
    "        return valuationInMillions / revenueInMillions;\n",
    "    }\n",
    "\n",
    "    [KernelFunction(\"get_valuation_to_profit\")]\n",
    "    [Description(\"Given the valuation in millions and the profit in millions, returns the valuation to profit ratio.\")]\n",
    "    [return: Description(\"The valuation to profit ratio\")]\n",
    "    public double GetValuationToProfitRatio(double valuationInMillions, double profitInMillions)\n",
    "    {\n",
    "        return valuationInMillions / profitInMillions;\n",
    "    }\n",
    "\n",
    "    [KernelFunction(\"get_valuation_to_employee\")]\n",
    "    [Description(\"Given the valuation in millions and the number of employees, returns the valuation to employee ratio.\")]\n",
    "    [return: Description(\"The valuation to employee ratio\")]\n",
    "    public double GetValuationToEmployeeRatio(double valuationInMillions, int employees)\n",
    "    {\n",
    "        return valuationInMillions / employees;\n",
    "    }\n",
    "}"
   ]
  },
  {
   "cell_type": "code",
   "execution_count": null,
   "metadata": {
    "dotnet_interactive": {
     "language": "csharp"
    },
    "polyglot_notebook": {
     "kernelName": "csharp"
    },
    "vscode": {
     "languageId": "polyglot-notebook"
    }
   },
   "outputs": [],
   "source": [
    "\n",
    "// FunPlugin directory path\n",
    "var groundingPluginDirectoryPath = Path.Combine(System.IO.Directory.GetCurrentDirectory(), \"..\", \"..\", \"prompt_template_samples\", \"GroundingPlugin\");\n",
    "var qaPluginDirectoryPath = Path.Combine(System.IO.Directory.GetCurrentDirectory(), \"..\", \"..\", \"prompt_template_samples\", \"QAPlugin\");\n",
    "\n",
    "// Load the FunPlugin from the Plugins Directory\n",
    "var groundingPluginFunctions = kernel.ImportPluginFromPromptDirectory(groundingPluginDirectoryPath);\n",
    "var questionPluginsFunctions = kernel.ImportPluginFromPromptDirectory(qaPluginDirectoryPath);\n",
    "kernel.ImportPluginFromType<CompanyDataPlugin>(\"GetCompanyData\");\n",
    "kernel.ImportPluginFromType<FinancialMathPlugin>(\"DoMathOnFinancials\");\n",
    "\n"
   ]
  },
  {
   "cell_type": "code",
   "execution_count": null,
   "metadata": {
    "dotnet_interactive": {
     "language": "csharp"
    },
    "polyglot_notebook": {
     "kernelName": "csharp"
    },
    "vscode": {
     "languageId": "polyglot-notebook"
    }
   },
   "outputs": [],
   "source": [
    "// Use of Function Calling for using the CompanyData Plugin. \n",
    "// This approach is customized to the use-case so it makes less AOI calls.\n",
    "// Question from the user.\n",
    "var ask = \"What is the valuation to profit ratio for Fedex?\";\n",
    "\n",
    "// First do Named Entity Recognition to extract the company name from the input.\n",
    "arguments[\"input\"] = ask;\n",
    "arguments[\"topic\"] = \"A single company name\";\n",
    "arguments[\"example_entities\"] = \"Microsoft, Apple, Google, Amazon, Facebook, Tesla, IBM, Oracle, Walmart, Fedex\";\n",
    "var companies = await kernel.InvokeAsync(groundingPluginFunctions[\"ExtractEntities\"], arguments);\n",
    "Console.WriteLine(companies);\n",
    "\n",
    "// Parse the company name from the output of the NER plugin.\n",
    "List<string> a = companies.ToString().Split(\"\\n\").ToList();\n",
    "var companyName = a[1].Substring(2, a[1].Length - 2);\n",
    "Console.WriteLine(companyName);\n",
    "\n",
    "// Call CompanyDataPlugin to get the company data.\n",
    "// First get the ID\n",
    "arguments[\"CompanyText\"] = companyName;\n",
    "arguments[\"Id\"] = await kernel.InvokeAsync<int>(\"GetCompanyData\", \"find_company\", arguments);\n",
    "Console.WriteLine(\"Company ID: \" + arguments[\"Id\"]);\n",
    "\n",
    "// Then get company data based on the ID\n",
    "var company = await kernel.InvokeAsync<CompanyRecord>(\"GetCompanyData\", \"get_company_data\", arguments);\n",
    "Console.WriteLine(company);\n",
    "var input = ask + \"\\n Company Data: \\n\" + company.ToString() + \"\\n\";\n",
    "\n",
    "// Finally answer the user's question given the context data about the company.\n",
    "arguments[\"input\"] = input;\n",
    "var answer = await kernel.InvokeAsync(questionPluginsFunctions[\"Question\"], arguments);\n",
    "Console.WriteLine(answer);\n"
   ]
  },
  {
   "cell_type": "code",
   "execution_count": null,
   "metadata": {
    "dotnet_interactive": {
     "language": "csharp"
    },
    "polyglot_notebook": {
     "kernelName": "csharp"
    },
    "vscode": {
     "languageId": "polyglot-notebook"
    }
   },
   "outputs": [],
   "source": [
    "// Function calling with just one Call. This approach is more generic and can be used for any plugins but \n",
    "// makes more AOI calls (4 as opoosed to 2 in this scenario).\n",
    "#pragma warning disable SKEXP0001\n",
    "kernel.Plugins.Clear();\n",
    "kernel.ImportPluginFromType<CompanyDataPlugin>(\"GetCompanyData\");\n",
    "kernel.ImportPluginFromType<FinancialMathPlugin>(\"DoMathOnFinancials\");\n",
    "\n",
    "OpenAIPromptExecutionSettings openAIPromptExecutionSettings = new() \n",
    "{\n",
    "    FunctionChoiceBehavior = FunctionChoiceBehavior.Auto()\n",
    "};\n",
    "IChatCompletionService chatCompletion = kernel.GetRequiredService<IChatCompletionService>();\n",
    "ChatHistory chatHistory = [];\n",
    "chatHistory.AddUserMessage(\"What is the valuation to profit ratio for Fedex?\");\n",
    "var response = await chatCompletion.GetChatMessageContentAsync(\n",
    "    chatHistory,\n",
    "    executionSettings: openAIPromptExecutionSettings,\n",
    "    kernel: kernel);\n",
    "\n",
    "Console.WriteLine(response);"
   ]
  }
 ],
 "metadata": {
  "kernelspec": {
   "display_name": ".NET (C#)",
   "language": "C#",
   "name": ".net-csharp"
  },
  "language_info": {
   "name": "python"
  },
  "polyglot_notebook": {
   "kernelInfo": {
    "defaultKernelName": "csharp",
    "items": [
     {
      "aliases": [],
      "name": "csharp"
     }
    ]
   }
  }
 },
 "nbformat": 4,
 "nbformat_minor": 2
}
