{
 "cells": [
  {
   "cell_type": "markdown",
   "metadata": {},
   "source": [
    "### Custom plugin to query company data that is obtained from an API \n",
    "\n",
    "**Uses only Function Calling feature of Semantic Kernel**\n",
    "\n",
    "Make sure that the CompanyData Service is up and running before running this plugin. The CompanyData Service is a simple REST API that provides company data. \n",
    "```bash\n",
    "cd \"dotnet\\notebooks\\CompanyDataService\\CompanyDataService\"\n",
    "dotnet run\n",
    "```\n"
   ]
  },
  {
   "cell_type": "code",
   "execution_count": 1,
   "metadata": {
    "dotnet_interactive": {
     "language": "csharp"
    },
    "polyglot_notebook": {
     "kernelName": "csharp"
    },
    "vscode": {
     "languageId": "polyglot-notebook"
    }
   },
   "outputs": [
    {
     "data": {
      "text/html": [
       "<div><div></div><div></div><div><strong>Installed Packages</strong><ul><li><span>Azure.AI.OpenAI, 2.1.0-beta.1</span></li><li><span>Azure.Identity, 1.13.1</span></li><li><span>Microsoft.SemanticKernel, 1.25.0</span></li></ul></div></div>"
      ]
     },
     "metadata": {},
     "output_type": "display_data"
    }
   ],
   "source": [
    "// Initialization and loading of modules\n",
    "\n",
    "#r \"nuget: Microsoft.SemanticKernel,1.25.0\"\n",
    "#r \"nuget: Azure.Identity\"\n",
    "#r \"nuget: Azure.AI.OpenAI,2.1.0-beta.1\"\n",
    "\n",
    "#!import config/Settings.cs\n",
    "#!import config/Utils.cs\n",
    "\n",
    "using Microsoft.SemanticKernel;\n",
    "using Microsoft.SemanticKernel.Connectors.AzureOpenAI;\n",
    "using Kernel = Microsoft.SemanticKernel.Kernel;\n",
    "using Azure.Identity;\n",
    "using System.Net.Http;\n",
    "using System.Threading;"
   ]
  },
  {
   "cell_type": "code",
   "execution_count": 2,
   "metadata": {
    "dotnet_interactive": {
     "language": "csharp"
    },
    "polyglot_notebook": {
     "kernelName": "csharp"
    },
    "vscode": {
     "languageId": "polyglot-notebook"
    }
   },
   "outputs": [],
   "source": [
    "// Custom HttpClient handler so we can log the input/output of the requests to the LLM API.\n",
    "public class LoggingHandler : DelegatingHandler\n",
    "{\n",
    "    public LoggingHandler(HttpMessageHandler innerHandler)\n",
    "        : base(innerHandler)\n",
    "    {\n",
    "    }\n",
    "\n",
    "    protected override async Task<HttpResponseMessage> SendAsync(HttpRequestMessage request, CancellationToken cancellationToken)\n",
    "    {\n",
    "        Console.WriteLine(\"Request:\");\n",
    "        var r = request.ToString();\n",
    "        var ra = r.Split(\"\\n\");\n",
    "        foreach (var l in ra)\n",
    "        {\n",
    "            if (l.Contains(\"Authorization\"))\n",
    "            {\n",
    "                Console.WriteLine(\"  Authorization: [REDACTED]\");\n",
    "            }\n",
    "            else\n",
    "            {\n",
    "                Console.WriteLine(l);\n",
    "            }\n",
    "        }        \n",
    "        if (request.Content != null)\n",
    "        {\n",
    "            Console.WriteLine(await request.Content.ReadAsStringAsync());\n",
    "        }\n",
    "        Console.WriteLine();\n",
    "\n",
    "        HttpResponseMessage response = await base.SendAsync(request, cancellationToken);\n",
    "\n",
    "        Console.WriteLine(\"Response:\");\n",
    "        Console.WriteLine(response.ToString());\n",
    "        if (response.Content != null)\n",
    "        {\n",
    "            Console.WriteLine(await response.Content.ReadAsStringAsync());\n",
    "        }\n",
    "        Console.WriteLine();\n",
    "\n",
    "        return response;\n",
    "    }\n",
    "}"
   ]
  },
  {
   "cell_type": "code",
   "execution_count": 3,
   "metadata": {
    "dotnet_interactive": {
     "language": "csharp"
    },
    "polyglot_notebook": {
     "kernelName": "csharp"
    },
    "vscode": {
     "languageId": "polyglot-notebook"
    }
   },
   "outputs": [],
   "source": [
    "// Create instance of HttpClient with our logging handler.\n",
    "HttpClient oaiCLient = new HttpClient(new LoggingHandler(new HttpClientHandler()));\n",
    "oaiCLient.Timeout = TimeSpan.FromMinutes(5);\n",
    "var builder = Kernel.CreateBuilder();\n",
    "\n",
    "// EntraID authentication options.\n",
    "DefaultAzureCredentialOptions defaultAzureCredentialOptions = new DefaultAzureCredentialOptions \n",
    "{ \n",
    "    ExcludeSharedTokenCacheCredential = true, \n",
    "    ExcludeEnvironmentCredential = true, \n",
    "    ExcludeAzurePowerShellCredential = true, \n",
    "    ExcludeInteractiveBrowserCredential = true, \n",
    "    ExcludeVisualStudioCredential = true, \n",
    "    ExcludeManagedIdentityCredential = true, \n",
    "    ExcludeVisualStudioCodeCredential = true, \n",
    "    ExcludeAzureCliCredential = false // Only use az login credentials\n",
    "};\n",
    "\n",
    "// Configure AI backend used by the kernel\n",
    "var (useAzureOpenAI, model, azureEndpoint, apiKey, orgId) = Settings.LoadFromFile();\n",
    "bool useLocalLLM = false;\n",
    "Uri localLLMEndpoint = new Uri(\"http://localhost:11434/v1\");\n",
    "string localLLMModel = \"phi3:latest\";\n",
    "AzureOpenAIPromptExecutionSettings pes = new AzureOpenAIPromptExecutionSettings { \n",
    "    MaxTokens = 1024, \n",
    "    Temperature = 0.001, \n",
    "    TopP = 1.0, \n",
    "    FrequencyPenalty = 0.0, \n",
    "    PresencePenalty = 0.0,\n",
    "    };  \n",
    "\n",
    "// Initalize history\n",
    "var history = \"\";\n",
    "var arguments = new KernelArguments()\n",
    "{\n",
    "    [\"history\"] = history,\n",
    "    [\"promptExecutionSettings\"] = pes\n",
    "};\n",
    "\n",
    "\n",
    "// Attach custom HttpCLient to the OAI connectors.\n",
    "if (useAzureOpenAI)\n",
    "    builder.AddAzureOpenAIChatCompletion(model, azureEndpoint, credentials: new DefaultAzureCredential(defaultAzureCredentialOptions), httpClient: oaiCLient);\n",
    "else\n",
    "    builder.AddOpenAIChatCompletion(model, apiKey, orgId);\n",
    "\n",
    "var kernel = builder.Build();"
   ]
  },
  {
   "cell_type": "code",
   "execution_count": 4,
   "metadata": {
    "dotnet_interactive": {
     "language": "csharp"
    },
    "polyglot_notebook": {
     "kernelName": "csharp"
    },
    "vscode": {
     "languageId": "polyglot-notebook"
    }
   },
   "outputs": [],
   "source": [
    "using System.ComponentModel;\n",
    "\n",
    "using System;\n",
    "using System.Collections.Generic;\n",
    "using System.IO;\n",
    "using System.Net.Http;\n",
    "\n",
    "// Define the CompanyRecord class to hold the company data.\n",
    "public record CompanyRecord\n",
    "{\n",
    "    public int Id { get; set; }\n",
    "    public int Rank { get; set; }\n",
    "    public string Name { get; set; }\n",
    "    public string Industry { get; set; }\n",
    "    public string City { get; set; }\n",
    "    public string State { get; set; }\n",
    "    public string Zip { get; set; }\n",
    "    public string Website { get; set; }\n",
    "    public int Employees { get; set; }\n",
    "    public decimal RevenueInMillions { get; set; }\n",
    "    public decimal ProfitInMillions { get; set; }\n",
    "    public decimal ValuationInMillions { get; set; }\n",
    "    public string Ticker { get; set; }\n",
    "    public string CEO { get; set; }\n",
    "}\n",
    "\n",
    "// CompanyData plugin\n",
    "public sealed class CompanyDataPlugin\n",
    "{\n",
    "    string _companyDataServiceApiEndpoint = \" http://localhost:5232\";\n",
    "    HttpClient _httpClient = new HttpClient();\n",
    "\n",
    "    public CompanyDataPlugin()\n",
    "    {\n",
    "        //_companyDataServiceApiEndpoint = companyDataServiceApiEndpoint;\n",
    "        _httpClient.Timeout = TimeSpan.FromMinutes(5);\n",
    "    }\n",
    "\n",
    "    // These descriptions are important and need to be as precise as possible as the Planner \n",
    "    // will use them as prompts to generate the HandleBar template.\n",
    "    [KernelFunction(\"find_company\")]\n",
    "    [Description(\"Find a company name given a ticker symbol or description of the company.\")]\n",
    "    [return: Description(\"A unique ID to the company. If the ID returned is -1, that means the company info could not be found - in which caswe the user should be informed about it.\")]\n",
    "    public async Task<int> GetCompanyNameAsync(string CompanyText)\n",
    "    {\n",
    "        // Call the API to find/validate the company name.\n",
    "        return await Task.Run(() =>\n",
    "        {\n",
    "            var url = _companyDataServiceApiEndpoint + \"/company_data/find/\" + CompanyText;\n",
    "            var r = _httpClient.GetAsync(url).Result;   \n",
    "            if (r.StatusCode != System.Net.HttpStatusCode.OK)\n",
    "            {\n",
    "                return -1;\n",
    "            }\n",
    "            return int.Parse(r.Content.ReadAsStringAsync().Result);\n",
    "        });\n",
    "    }\n",
    "\n",
    "    [KernelFunction(\"get_company_data\")]\n",
    "    [Description(\"Given the unique ID of a company, returns key data such as rank, industry, ticker symbol, address, website, valuation, profit, revenue, number of employees and CEO.\")]\n",
    "    [return: Description(\"The details of the company\")]\n",
    "    public async Task<CompanyRecord> GetCompanyDataAsync(string Id)\n",
    "    {\n",
    "        // Call the API to get the details of the company based on the ID.\n",
    "        return await Task.Run(() =>\n",
    "        {\n",
    "            var url = _companyDataServiceApiEndpoint + \"/company_data/\" + int.Parse(Id);\n",
    "            var r = _httpClient.GetAsync(url).Result;\n",
    "            var json = JsonDocument.Parse(r.Content.ReadAsStringAsync().Result);\n",
    "            var root = json.RootElement;\n",
    "            return new CompanyRecord\n",
    "            {\n",
    "                Id = root.GetProperty(\"id\").GetInt32(),\n",
    "                Rank = root.GetProperty(\"rank\").GetInt32(),\n",
    "                Name = root.GetProperty(\"name\").GetString(),\n",
    "                Industry = root.GetProperty(\"industry\").GetString(),\n",
    "                City = root.GetProperty(\"city\").GetString(),\n",
    "                State = root.GetProperty(\"state\").GetString(),\n",
    "                Zip = root.GetProperty(\"zip\").GetString(),\n",
    "                Website = root.GetProperty(\"website\").GetString(),\n",
    "                Employees = root.GetProperty(\"employees\").GetInt32(),\n",
    "                RevenueInMillions = root.GetProperty(\"revenueInMillions\").GetDecimal(),\n",
    "                ProfitInMillions = root.GetProperty(\"profitInMillions\").GetDecimal(),\n",
    "                ValuationInMillions = root.GetProperty(\"valuationInMillions\").GetDecimal(),\n",
    "                Ticker = root.GetProperty(\"ticker\").GetString(),\n",
    "                CEO = root.GetProperty(\"ceo\").GetString()\n",
    "            };\n",
    "        });\n",
    "    }\n",
    "}\n"
   ]
  },
  {
   "cell_type": "code",
   "execution_count": 5,
   "metadata": {
    "dotnet_interactive": {
     "language": "csharp"
    },
    "polyglot_notebook": {
     "kernelName": "csharp"
    },
    "vscode": {
     "languageId": "polyglot-notebook"
    }
   },
   "outputs": [],
   "source": [
    "// Financial Math Plugin\n",
    "\n",
    "public sealed class FinancialMathPlugin\n",
    "{\n",
    "    // These descriptions are important and need to be as precise as possible as the Planner \n",
    "    // will use them as prompts to generate the HandleBar template.\n",
    "    [KernelFunction(\"get_profit_margin\")]\n",
    "    [Description(\"Given the profit in millions and the revenue in millions, returns the profit margin in percentage.\")]\n",
    "    [return: Description(\"The profit margin in percentage\")]\n",
    "    public double GetProfitMargin(double profitInMillions, double revenueInMillions)\n",
    "    {\n",
    "        return profitInMillions / revenueInMillions * 100;\n",
    "    }\n",
    "\n",
    "    [KernelFunction(\"get_valuation_to_revenue\")]\n",
    "    [Description(\"Given the valuation in millions and the revenue in millions, returns the valuation to revenue ratio.\")]\n",
    "    [return: Description(\"The valuation to revenue ratio\")]\n",
    "    public double GetValuationToRevenueRatio(double valuationInMillions, double revenueInMillions)\n",
    "    {\n",
    "        return valuationInMillions / revenueInMillions;\n",
    "    }\n",
    "\n",
    "    [KernelFunction(\"get_valuation_to_profit\")]\n",
    "    [Description(\"Given the valuation in millions and the profit in millions, returns the valuation to profit ratio.\")]\n",
    "    [return: Description(\"The valuation to profit ratio\")]\n",
    "    public double GetValuationToProfitRatio(double valuationInMillions, double profitInMillions)\n",
    "    {\n",
    "        return valuationInMillions / profitInMillions;\n",
    "    }\n",
    "\n",
    "    [KernelFunction(\"get_valuation_to_employee\")]\n",
    "    [Description(\"Given the valuation in millions and the number of employees, returns the valuation to employee ratio.\")]\n",
    "    [return: Description(\"The valuation to employee ratio\")]\n",
    "    public double GetValuationToEmployeeRatio(double valuationInMillions, int employees)\n",
    "    {\n",
    "        return valuationInMillions / employees;\n",
    "    }\n",
    "}"
   ]
  },
  {
   "cell_type": "code",
   "execution_count": 6,
   "metadata": {
    "dotnet_interactive": {
     "language": "csharp"
    },
    "polyglot_notebook": {
     "kernelName": "csharp"
    },
    "vscode": {
     "languageId": "polyglot-notebook"
    }
   },
   "outputs": [],
   "source": [
    "\n",
    "// FunPlugin directory path\n",
    "var groundingPluginDirectoryPath = Path.Combine(System.IO.Directory.GetCurrentDirectory(), \"..\", \"..\", \"prompt_template_samples\", \"GroundingPlugin\");\n",
    "var qaPluginDirectoryPath = Path.Combine(System.IO.Directory.GetCurrentDirectory(), \"..\", \"..\", \"prompt_template_samples\", \"QAPlugin\");\n",
    "\n",
    "// Load the FunPlugin from the Plugins Directory\n",
    "var groundingPluginFunctions = kernel.ImportPluginFromPromptDirectory(groundingPluginDirectoryPath);\n",
    "var questionPluginsFunctions = kernel.ImportPluginFromPromptDirectory(qaPluginDirectoryPath);\n",
    "kernel.ImportPluginFromType<CompanyDataPlugin>();\n",
    "kernel.ImportPluginFromType<FinancialMathPlugin>();\n",
    "\n"
   ]
  },
  {
   "cell_type": "code",
   "execution_count": 7,
   "metadata": {
    "dotnet_interactive": {
     "language": "csharp"
    },
    "polyglot_notebook": {
     "kernelName": "csharp"
    },
    "vscode": {
     "languageId": "polyglot-notebook"
    }
   },
   "outputs": [
    {
     "name": "stdout",
     "output_type": "stream",
     "text": [
      "Request:\n",
      "Method: POST, RequestUri: 'https://podcastchat.openai.azure.com/openai/deployments/gpt-4o/chat/completions?api-version=2024-08-01-preview', Version: 1.1, Content: System.ClientModel.Primitives.HttpClientPipelineTransport+HttpPipelineRequest+MessageBodyAdapter, Headers:\n",
      "{\n",
      "  Accept: application/json\n",
      "  User-Agent: Semantic-Kernel azsdk-net-AI.OpenAI/2.1.0-beta.1 (.NET 8.0.10; Microsoft Windows 10.0.26100)\n",
      "  x-ms-client-request-id: be72c8a2-5981-4468-a698-1f07986fe905\n",
      "  Semantic-Kernel-Version: 1.25.0.0\n",
      "  Authorization: [REDACTED]\n",
      "  Content-Type: application/json\n",
      "}\n",
      "{\"messages\":[{\"role\":\"user\",\"content\":\"# Task Description\\n\\n1. Please extract a list of entities related to A single company name from the text between the \\u003Cinput_context\\u003E tags.\\n2. These are some sample entities related to A single company name to help you decide what to extract: Microsoft, Apple, Google, Amazon, Facebook, Tesla, IBM, Oracle, Walmart, Fedex\\n3. The list in (2) is provided to help you decide which entities to extract, but you may choose to include entities which are related to A single company name but which are not listed in (2).\\n4. As the first part of your response, generate a bulleted list of each of the items in (1) together with an explanation of what they are.\\n5. Go over each item in your bulleted list and read the explanation of what it is. Keep items which are related to A single company name\\n6. Go over each item in your bulleted list and verify that it appears between the \\u003Cinput_context\\u003E tags.\\n7. Go over each item in your bulleted list and check for duplicates. Keep only one example of each. Duplicates may be:\\n    - Abbreviations\\n    - Reuse as adjectives\\n    - Plurals and related changes\\n8. Return the bulleted list of entities between \\u003Centities\\u003E and \\u003C/entities\\u003E.\\n\\n# Examples\\n\\n## Example 1\\n\\nIn the following example, the task is to extract entities related to food, with \\u0027apple\\u0027 and \\u0027lime\\u0027 as examples:\\n\\n\\u003Cinput_context\\u003E\\nOranges and lemons,\\nSay the bells of St. Clement\\u0027s.\\n\\nYou owe me five farthings,\\nSay the bells of St. Martin\\u0027s.\\n\\u003C/input_context\\u003E\\n\\nResponse:\\n\\u003Centities\\u003E\\n- Orange\\n- Lemon\\n\\u003C/entities\\u003E\\n\\n## Example 2\\n\\nIn the following example, the task was to extract entities related to animals, with \\u0027fish\\u0027 and \\u0027goat\\u0027 as examples:\\n\\n\\u003Cinput_context\\u003E\\nBelinda lived in a little white house,\\nWith a little black kitten and a little gray mouse,\\nAnd a little yellow dog and a little red wagon,\\nAnd a realio, trulio, little pet dragon\\n\\u003C/input_context\\u003E\\n\\nResponse:\\n\\u003Centities\\u003E\\n- kitten\\n- mouse\\n- dog\\n- dragon\\n\\u003C/entities\\u003E\\n\\n# Task\\n\\nExtract entities related to A single company name from the following context. Produce a bulleted list of entities between \\u003Centities\\u003E and \\u003C/entities\\u003E.\\n\\n\\u003Cinput_context\\u003E\\nWhat is the valuation to profit ratio for Fedex?\\n\\u003C/input_context\\u003E\\n\\nResponse:\\n\"}],\"model\":\"gpt-4o\",\"frequency_penalty\":0,\"presence_penalty\":0,\"temperature\":0,\"top_p\":0.1,\"max_tokens\":256}\n",
      "\n",
      "Response:\n",
      "StatusCode: 200, ReasonPhrase: 'OK', Version: 1.1, Content: System.Net.Http.HttpConnectionResponseContent, Headers:\n",
      "{\n",
      "  Date: Tue, 29 Oct 2024 21:00:34 GMT\n",
      "  Connection: keep-alive\n",
      "  x-ms-region: East US 2\n",
      "  apim-request-id: 1e212ef2-e4e9-43e9-83c3-854b4aba9a42\n",
      "  x-ratelimit-remaining-requests: 29\n",
      "  x-ms-rai-invoked: true\n",
      "  X-Request-ID: 4b9eb99c-69fd-485b-8e1e-5bd68d40d266\n",
      "  Strict-Transport-Security: max-age=31536000; includeSubDomains; preload\n",
      "  azureml-model-session: d096-20240922005502\n",
      "  X-Content-Type-Options: nosniff\n",
      "  x-envoy-upstream-service-time: 210\n",
      "  x-ms-client-request-id: be72c8a2-5981-4468-a698-1f07986fe905\n",
      "  x-ratelimit-remaining-tokens: 29202\n",
      "  Content-Type: application/json\n",
      "  Content-Length: 1037\n",
      "}\n",
      "{\"choices\":[{\"content_filter_results\":{\"hate\":{\"filtered\":false,\"severity\":\"safe\"},\"protected_material_code\":{\"filtered\":false,\"detected\":false},\"protected_material_text\":{\"filtered\":false,\"detected\":false},\"self_harm\":{\"filtered\":false,\"severity\":\"safe\"},\"sexual\":{\"filtered\":false,\"severity\":\"safe\"},\"violence\":{\"filtered\":false,\"severity\":\"safe\"}},\"finish_reason\":\"stop\",\"index\":0,\"logprobs\":null,\"message\":{\"content\":\"\\u003centities\\u003e\\n- Fedex\\n\\u003c/entities\\u003e\",\"role\":\"assistant\"}}],\"created\":1730235634,\"id\":\"chatcmpl-ANncIBmBO3g2MQ3Ce2gEAkYwYfPHC\",\"model\":\"gpt-4o-2024-05-13\",\"object\":\"chat.completion\",\"prompt_filter_results\":[{\"prompt_index\":0,\"content_filter_results\":{\"hate\":{\"filtered\":false,\"severity\":\"safe\"},\"jailbreak\":{\"filtered\":false,\"detected\":false},\"self_harm\":{\"filtered\":false,\"severity\":\"safe\"},\"sexual\":{\"filtered\":false,\"severity\":\"safe\"},\"violence\":{\"filtered\":false,\"severity\":\"safe\"}}}],\"system_fingerprint\":\"fp_67802d9a6d\",\"usage\":{\"completion_tokens\":10,\"prompt_tokens\":516,\"total_tokens\":526}}\n",
      "\n",
      "\n",
      "<entities>\n",
      "- Fedex\n",
      "</entities>\n",
      "Fedex\n",
      "Company ID: 40\n",
      "CompanyRecord { Id = 40, Rank = 41, Name = FedEx, Industry = Mail, Package and Freight Delivery, City = Memphis, State = Tennessee, Zip = 38120, Website = www.fedex.com, Employees = 464400, RevenueInMillions = 93512, ProfitInMillions = 3826, ValuationInMillions = 57431, Ticker = FDX, CEO = Raj Subramaniam }\n",
      "Request:\n",
      "Method: POST, RequestUri: 'https://podcastchat.openai.azure.com/openai/deployments/gpt-4o/chat/completions?api-version=2024-08-01-preview', Version: 1.1, Content: System.ClientModel.Primitives.HttpClientPipelineTransport+HttpPipelineRequest+MessageBodyAdapter, Headers:\n",
      "{\n",
      "  Accept: application/json\n",
      "  User-Agent: Semantic-Kernel azsdk-net-AI.OpenAI/2.1.0-beta.1 (.NET 8.0.10; Microsoft Windows 10.0.26100)\n",
      "  x-ms-client-request-id: 9e389031-baa4-4b6d-96c6-22088c183d7e\n",
      "  Semantic-Kernel-Version: 1.25.0.0\n",
      "  Authorization: [REDACTED]\n",
      "  Content-Type: application/json\n",
      "}\n",
      "{\"messages\":[{\"role\":\"user\",\"content\":\"I am a highly intelligent question answering bot. If you ask me a question that is rooted in truth, I will give you the answer. If you ask me a question that is nonsense, trickery, or has no clear answer, I will respond with \\u0022Unknown\\u0022.\\n\\nQ: What is human life expectancy in the United States?\\nA: Human life expectancy in the United States is 78 years.\\n\\nQ: Who was president of the United States in 1955?\\nA: Dwight D. Eisenhower was president of the United States in 1955.\\n\\nQ: Which party did he belong to?\\nA: He belonged to the Republican Party.\\n\\nQ: What is the square root of banana?\\nA: Unknown\\n\\nQ: How does a telescope work?\\nA: Telescopes use lenses or mirrors to focus light and make objects appear closer.\\n\\nQ: Where did the first humans land on the moon in 1969?\\nA: The first humans landed on the moon on the southwestern edge of the Sea of Tranquility.\\n\\nQ: Name 3 movies about outer space.\\nA: Aliens, Star Wars, Apollo 13\\n\\nQ: How many squigs are in a bonk?\\nA: Unknown\\n\\nQ: What is the valuation to profit ratio for Fedex?\\n Company Data: \\nCompanyRecord { Id = 40, Rank = 41, Name = FedEx, Industry = Mail, Package and Freight Delivery, City = Memphis, State = Tennessee, Zip = 38120, Website = www.fedex.com, Employees = 464400, RevenueInMillions = 93512, ProfitInMillions = 3826, ValuationInMillions = 57431, Ticker = FDX, CEO = Raj Subramaniam }\\n\\n\"}],\"model\":\"gpt-4o\",\"frequency_penalty\":0,\"presence_penalty\":0,\"temperature\":0,\"top_p\":0,\"max_tokens\":100}\n",
      "\n",
      "Response:\n",
      "StatusCode: 200, ReasonPhrase: 'OK', Version: 1.1, Content: System.Net.Http.HttpConnectionResponseContent, Headers:\n",
      "{\n",
      "  Date: Tue, 29 Oct 2024 21:00:36 GMT\n",
      "  Connection: keep-alive\n",
      "  x-ms-region: East US 2\n",
      "  apim-request-id: 4e37df98-74f3-46d2-ad99-c4c28375f564\n",
      "  x-ratelimit-remaining-requests: 28\n",
      "  x-ms-rai-invoked: true\n",
      "  X-Request-ID: 55b86098-6f61-473f-99b6-a96efd252a9e\n",
      "  Strict-Transport-Security: max-age=31536000; includeSubDomains; preload\n",
      "  azureml-model-session: d094-20240921222131\n",
      "  X-Content-Type-Options: nosniff\n",
      "  x-envoy-upstream-service-time: 1214\n",
      "  x-ms-client-request-id: 9e389031-baa4-4b6d-96c6-22088c183d7e\n",
      "  x-ratelimit-remaining-tokens: 28764\n",
      "  Content-Type: application/json\n",
      "  Content-Length: 1313\n",
      "}\n",
      "{\"choices\":[{\"content_filter_results\":{\"hate\":{\"filtered\":false,\"severity\":\"safe\"},\"protected_material_code\":{\"filtered\":false,\"detected\":false},\"protected_material_text\":{\"filtered\":false,\"detected\":false},\"self_harm\":{\"filtered\":false,\"severity\":\"safe\"},\"sexual\":{\"filtered\":false,\"severity\":\"safe\"},\"violence\":{\"filtered\":false,\"severity\":\"safe\"}},\"finish_reason\":\"stop\",\"index\":0,\"logprobs\":null,\"message\":{\"content\":\"To calculate the valuation to profit ratio for FedEx, you divide the company's valuation by its profit.\\n\\nValuation: $57,431 million\\nProfit: $3,826 million\\n\\nValuation to Profit Ratio = Valuation / Profit\\nValuation to Profit Ratio = 57,431 / 3,826 ≈ 15.01\\n\\nThe valuation to profit ratio for FedEx is approximately 15.01.\",\"role\":\"assistant\"}}],\"created\":1730235635,\"id\":\"chatcmpl-ANncJ2Lec7zHVD8bRoScWqcbtLlqW\",\"model\":\"gpt-4o-2024-05-13\",\"object\":\"chat.completion\",\"prompt_filter_results\":[{\"prompt_index\":0,\"content_filter_results\":{\"hate\":{\"filtered\":false,\"severity\":\"safe\"},\"jailbreak\":{\"filtered\":false,\"detected\":false},\"self_harm\":{\"filtered\":false,\"severity\":\"safe\"},\"sexual\":{\"filtered\":false,\"severity\":\"safe\"},\"violence\":{\"filtered\":false,\"severity\":\"safe\"}}}],\"system_fingerprint\":\"fp_67802d9a6d\",\"usage\":{\"completion_tokens\":85,\"prompt_tokens\":363,\"total_tokens\":448}}\n",
      "\n",
      "\n",
      "To calculate the valuation to profit ratio for FedEx, you divide the company's valuation by its profit.\n",
      "\n",
      "Valuation: $57,431 million\n",
      "Profit: $3,826 million\n",
      "\n",
      "Valuation to Profit Ratio = Valuation / Profit\n",
      "Valuation to Profit Ratio = 57,431 / 3,826 ≈ 15.01\n",
      "\n",
      "The valuation to profit ratio for FedEx is approximately 15.01.\n"
     ]
    }
   ],
   "source": [
    "// Use of Function Calling for using the CompanyData Plugin\n",
    "// Question from the user.\n",
    "var ask = \"What is the valuation to profit ratio for Fedex?\";\n",
    "\n",
    "// First do Named Entity Recognition to extract the company name from the input.\n",
    "arguments[\"input\"] = ask;\n",
    "arguments[\"topic\"] = \"A single company name\";\n",
    "arguments[\"example_entities\"] = \"Microsoft, Apple, Google, Amazon, Facebook, Tesla, IBM, Oracle, Walmart, Fedex\";\n",
    "var companies = await kernel.InvokeAsync(groundingPluginFunctions[\"ExtractEntities\"], arguments);\n",
    "Console.WriteLine(companies);\n",
    "\n",
    "// Parse the company name from the output of the NER plugin.\n",
    "List<string> a = companies.ToString().Split(\"\\n\").ToList();\n",
    "var companyName = a[1].Substring(2, a[1].Length - 2);\n",
    "Console.WriteLine(companyName);\n",
    "\n",
    "// Call CompanyDataPlugin to get the company data.\n",
    "// First get the ID\n",
    "arguments[\"CompanyText\"] = companyName;\n",
    "arguments[\"Id\"] = await kernel.InvokeAsync<int>(\"CompanyDataPlugin\", \"find_company\", arguments);\n",
    "Console.WriteLine(\"Company ID: \" + arguments[\"Id\"]);\n",
    "\n",
    "// Then get company data based on the ID\n",
    "var company = await kernel.InvokeAsync<CompanyRecord>(\"CompanyDataPlugin\", \"get_company_data\", arguments);\n",
    "Console.WriteLine(company);\n",
    "var input = ask + \"\\n Company Data: \\n\" + company.ToString() + \"\\n\";\n",
    "\n",
    "// Finally answer the user's question given the context data about the company.\n",
    "arguments[\"input\"] = input;\n",
    "var answer = await kernel.InvokeAsync(questionPluginsFunctions[\"Question\"], arguments);\n",
    "Console.WriteLine(answer);\n"
   ]
  }
 ],
 "metadata": {
  "kernelspec": {
   "display_name": ".NET (C#)",
   "language": "C#",
   "name": ".net-csharp"
  },
  "language_info": {
   "name": "python"
  },
  "polyglot_notebook": {
   "kernelInfo": {
    "defaultKernelName": "csharp",
    "items": [
     {
      "aliases": [],
      "name": "csharp"
     }
    ]
   }
  }
 },
 "nbformat": 4,
 "nbformat_minor": 2
}
